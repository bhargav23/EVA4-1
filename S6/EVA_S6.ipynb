{
  "nbformat": 4,
  "nbformat_minor": 0,
  "metadata": {
    "colab": {
      "name": "EVA S6BK.ipynb",
      "provenance": [],
      "collapsed_sections": []
    },
    "kernelspec": {
      "name": "python3",
      "display_name": "Python 3"
    },
    "accelerator": "GPU"
  },
  "cells": [
    {
      "cell_type": "markdown",
      "metadata": {
        "id": "aO-7t1Y7-hV4",
        "colab_type": "text"
      },
      "source": [
        "# Import Libraries"
      ]
    },
    {
      "cell_type": "code",
      "metadata": {
        "id": "8kH16rnZ7wt_",
        "colab_type": "code",
        "colab": {}
      },
      "source": [
        "from __future__ import print_function\n",
        "import torch\n",
        "import torch.nn as nn\n",
        "import torch.nn.functional as F\n",
        "import torch.optim as optim\n",
        "from torchvision import datasets, transforms"
      ],
      "execution_count": 0,
      "outputs": []
    },
    {
      "cell_type": "markdown",
      "metadata": {
        "id": "ky3f_Odl-7um",
        "colab_type": "text"
      },
      "source": [
        "## Data Transformations\n",
        "\n",
        "We first start with defining our data transformations. We need to think what our data is and how can we augment it to correct represent images which it might not see otherwise. \n"
      ]
    },
    {
      "cell_type": "code",
      "metadata": {
        "id": "YtssFUKb-jqx",
        "colab_type": "code",
        "colab": {}
      },
      "source": [
        "# Train Phase transformations\n",
        "train_transforms = transforms.Compose([\n",
        "                                        transforms.Resize((28, 28)),\n",
        "                                       #transforms.ColorJitter(brightness=0.10, contrast=0.1, saturation=0.10, hue=0.1),\n",
        "                                       transforms.RandomRotation((-7.0, 7.0), fill=(1,)),\n",
        "                                       transforms.ToTensor(),\n",
        "                                       transforms.Normalize((0.1307,), (0.3081,)) # The mean and std have to be sequences (e.g., tuples), therefore you should add a comma after the values. \n",
        "                                       # Note the difference between (0.1307) and (0.1307,)\n",
        "                                       ])\n",
        "\n",
        "# Test Phase transformations\n",
        "test_transforms = transforms.Compose([\n",
        "                                        transforms.Resize((28, 28)),\n",
        "                                        #transforms.ColorJitter(brightness=0.10, contrast=0.1, saturation=0.10, hue=0.1),\n",
        "                                       transforms.ToTensor(),\n",
        "                                       transforms.Normalize((0.1307,), (0.3081,))\n",
        "                                       ])\n"
      ],
      "execution_count": 0,
      "outputs": []
    },
    {
      "cell_type": "markdown",
      "metadata": {
        "id": "oQciFYo2B1mO",
        "colab_type": "text"
      },
      "source": [
        "# Dataset and Creating Train/Test Split"
      ]
    },
    {
      "cell_type": "code",
      "metadata": {
        "id": "_4A84rlfDA23",
        "colab_type": "code",
        "colab": {}
      },
      "source": [
        "train = datasets.MNIST('./data', train=True, download=True, transform=train_transforms)\n",
        "test = datasets.MNIST('./data', train=False, download=True, transform=test_transforms)"
      ],
      "execution_count": 0,
      "outputs": []
    },
    {
      "cell_type": "markdown",
      "metadata": {
        "id": "qgldp_3-Dn0c",
        "colab_type": "text"
      },
      "source": [
        "# Dataloader Arguments & Test/Train Dataloaders\n"
      ]
    },
    {
      "cell_type": "code",
      "metadata": {
        "id": "C8OLDR79DrHG",
        "colab_type": "code",
        "outputId": "26fde5f6-bc3d-4927-abff-ae3ac7624fa8",
        "colab": {
          "base_uri": "https://localhost:8080/",
          "height": 35
        }
      },
      "source": [
        "SEED = 1\n",
        "\n",
        "# CUDA?\n",
        "cuda = torch.cuda.is_available()\n",
        "print(\"CUDA Available?\", cuda)\n",
        "\n",
        "# For reproducibility\n",
        "torch.manual_seed(SEED)\n",
        "\n",
        "if cuda:\n",
        "    torch.cuda.manual_seed(SEED)\n",
        "\n",
        "# dataloader arguments - something you'll fetch these from cmdprmt\n",
        "dataloader_args = dict(shuffle=True, batch_size=128, num_workers=4, pin_memory=True) if cuda else dict(shuffle=True, batch_size=64)\n",
        "\n",
        "# train dataloader\n",
        "train_loader = torch.utils.data.DataLoader(train, **dataloader_args)\n",
        "\n",
        "# test dataloader\n",
        "test_loader = torch.utils.data.DataLoader(test, **dataloader_args)"
      ],
      "execution_count": 4,
      "outputs": [
        {
          "output_type": "stream",
          "text": [
            "CUDA Available? True\n"
          ],
          "name": "stdout"
        }
      ]
    },
    {
      "cell_type": "markdown",
      "metadata": {
        "id": "ubQL3H6RJL3h",
        "colab_type": "text"
      },
      "source": [
        "# The model\n",
        "Let's start with the model we first saw"
      ]
    },
    {
      "cell_type": "code",
      "metadata": {
        "id": "7FXQlB9kH1ov",
        "colab_type": "code",
        "colab": {}
      },
      "source": [
        "dropout_value = 0.07\n",
        "class Net(nn.Module):\n",
        "    def __init__(self):\n",
        "        super(Net, self).__init__()\n",
        "        # Input Block\n",
        "        self.convblock1 = nn.Sequential(\n",
        "            nn.Conv2d(in_channels=1, out_channels=8, kernel_size=(3, 3), padding=0, bias=False),\n",
        "            nn.ReLU(),\n",
        "            nn.BatchNorm2d(8),\n",
        "            nn.Dropout(dropout_value)\n",
        "        ) # output_size = 26\n",
        "\n",
        "        # CONVOLUTION BLOCK 1\n",
        "        self.convblock2 = nn.Sequential(\n",
        "            nn.Conv2d(in_channels=8, out_channels=10, kernel_size=(3, 3), padding=0, bias=False),\n",
        "            nn.ReLU(),\n",
        "            nn.BatchNorm2d(10),\n",
        "            nn.Dropout(dropout_value)\n",
        "        ) # output_size = 24\n",
        "\n",
        "        # TRANSITION BLOCK 1\n",
        "        self.convblock3 = nn.Sequential(\n",
        "            nn.Conv2d(in_channels=10, out_channels=10, kernel_size=(1, 1), padding=0, bias=False),\n",
        "        ) # output_size = 24\n",
        "        self.pool1 = nn.MaxPool2d(2, 2) # output_size = 12\n",
        "\n",
        "        # CONVOLUTION BLOCK 2\n",
        "        self.convblock4 = nn.Sequential(\n",
        "            nn.Conv2d(in_channels=10, out_channels=10, kernel_size=(3, 3), padding=0, bias=False),\n",
        "            nn.ReLU(),            \n",
        "            nn.BatchNorm2d(10),\n",
        "            nn.Dropout(dropout_value)\n",
        "        ) # output_size = 10\n",
        "        self.convblock5 = nn.Sequential(\n",
        "            nn.Conv2d(in_channels=10, out_channels=16, kernel_size=(3, 3), padding=0, bias=False),\n",
        "            nn.ReLU(),            \n",
        "            nn.BatchNorm2d(16),\n",
        "            nn.Dropout(dropout_value)\n",
        "        ) # output_size = 8\n",
        "        self.convblock6 = nn.Sequential(\n",
        "            nn.Conv2d(in_channels=16, out_channels=16, kernel_size=(3, 3), padding=0, bias=False),\n",
        "            nn.ReLU(),            \n",
        "            nn.BatchNorm2d(16),\n",
        "            nn.Dropout(dropout_value)\n",
        "        ) # output_size = 6\n",
        "        self.convblock7 = nn.Sequential(\n",
        "            nn.Conv2d(in_channels=16, out_channels=16, kernel_size=(3, 3), padding=1, bias=False),\n",
        "            nn.ReLU(),            \n",
        "            nn.BatchNorm2d(16),\n",
        "            nn.Dropout(dropout_value)\n",
        "        ) # output_size = 6\n",
        "        \n",
        "        # OUTPUT BLOCK\n",
        "        self.gap = nn.Sequential(\n",
        "            nn.AvgPool2d(kernel_size=6)\n",
        "        ) # output_size = 1\n",
        "\n",
        "        self.convblock8 = nn.Sequential(\n",
        "            nn.Conv2d(in_channels=16, out_channels=10, kernel_size=(1, 1), padding=0, bias=False),\n",
        "            # nn.BatchNorm2d(10),\n",
        "            # nn.ReLU(),\n",
        "            # nn.Dropout(dropout_value)\n",
        "        ) \n",
        "\n",
        "\n",
        "        self.dropout = nn.Dropout(dropout_value)\n",
        "\n",
        "    def forward(self, x):\n",
        "        x = self.convblock1(x)\n",
        "        x = self.convblock2(x)\n",
        "        x = self.convblock3(x)\n",
        "        x = self.pool1(x)\n",
        "        x = self.convblock4(x)\n",
        "        x = self.convblock5(x)\n",
        "        x = self.convblock6(x)\n",
        "        x = self.convblock7(x)\n",
        "        x = self.gap(x)        \n",
        "        x = self.convblock8(x)\n",
        "\n",
        "        x = x.view(-1, 10)\n",
        "        return F.log_softmax(x, dim=-1)"
      ],
      "execution_count": 0,
      "outputs": []
    },
    {
      "cell_type": "markdown",
      "metadata": {
        "id": "M3-vp8X9LCWo",
        "colab_type": "text"
      },
      "source": [
        "# Model Params\n",
        "Can't emphasize on how important viewing Model Summary is. \n",
        "Unfortunately, there is no in-built model visualizer, so we have to take external help"
      ]
    },
    {
      "cell_type": "code",
      "metadata": {
        "id": "5skB97zIJQQe",
        "colab_type": "code",
        "outputId": "9a49c107-3eee-42c0-b876-892042fad538",
        "colab": {
          "base_uri": "https://localhost:8080/",
          "height": 799
        }
      },
      "source": [
        "!pip install torchsummary\n",
        "from torchsummary import summary\n",
        "use_cuda = torch.cuda.is_available()\n",
        "device = torch.device(\"cuda\" if use_cuda else \"cpu\")\n",
        "print(device)\n",
        "model = Net().to(device)\n",
        "summary(model, input_size=(1, 28, 28))"
      ],
      "execution_count": 6,
      "outputs": [
        {
          "output_type": "stream",
          "text": [
            "Requirement already satisfied: torchsummary in /usr/local/lib/python3.6/dist-packages (1.5.1)\n",
            "cuda\n",
            "----------------------------------------------------------------\n",
            "        Layer (type)               Output Shape         Param #\n",
            "================================================================\n",
            "            Conv2d-1            [-1, 8, 26, 26]              72\n",
            "              ReLU-2            [-1, 8, 26, 26]               0\n",
            "       BatchNorm2d-3            [-1, 8, 26, 26]              16\n",
            "           Dropout-4            [-1, 8, 26, 26]               0\n",
            "            Conv2d-5           [-1, 10, 24, 24]             720\n",
            "              ReLU-6           [-1, 10, 24, 24]               0\n",
            "       BatchNorm2d-7           [-1, 10, 24, 24]              20\n",
            "           Dropout-8           [-1, 10, 24, 24]               0\n",
            "            Conv2d-9           [-1, 10, 24, 24]             100\n",
            "        MaxPool2d-10           [-1, 10, 12, 12]               0\n",
            "           Conv2d-11           [-1, 10, 10, 10]             900\n",
            "             ReLU-12           [-1, 10, 10, 10]               0\n",
            "      BatchNorm2d-13           [-1, 10, 10, 10]              20\n",
            "          Dropout-14           [-1, 10, 10, 10]               0\n",
            "           Conv2d-15             [-1, 16, 8, 8]           1,440\n",
            "             ReLU-16             [-1, 16, 8, 8]               0\n",
            "      BatchNorm2d-17             [-1, 16, 8, 8]              32\n",
            "          Dropout-18             [-1, 16, 8, 8]               0\n",
            "           Conv2d-19             [-1, 16, 6, 6]           2,304\n",
            "             ReLU-20             [-1, 16, 6, 6]               0\n",
            "      BatchNorm2d-21             [-1, 16, 6, 6]              32\n",
            "          Dropout-22             [-1, 16, 6, 6]               0\n",
            "           Conv2d-23             [-1, 16, 6, 6]           2,304\n",
            "             ReLU-24             [-1, 16, 6, 6]               0\n",
            "      BatchNorm2d-25             [-1, 16, 6, 6]              32\n",
            "          Dropout-26             [-1, 16, 6, 6]               0\n",
            "        AvgPool2d-27             [-1, 16, 1, 1]               0\n",
            "           Conv2d-28             [-1, 10, 1, 1]             160\n",
            "================================================================\n",
            "Total params: 8,152\n",
            "Trainable params: 8,152\n",
            "Non-trainable params: 0\n",
            "----------------------------------------------------------------\n",
            "Input size (MB): 0.00\n",
            "Forward/backward pass size (MB): 0.49\n",
            "Params size (MB): 0.03\n",
            "Estimated Total Size (MB): 0.53\n",
            "----------------------------------------------------------------\n"
          ],
          "name": "stdout"
        }
      ]
    },
    {
      "cell_type": "markdown",
      "metadata": {
        "id": "1__x_SbrL7z3",
        "colab_type": "text"
      },
      "source": [
        "# Training and Testing\n",
        "\n",
        "Looking at logs can be boring, so we'll introduce **tqdm** progressbar to get cooler logs. \n",
        "\n",
        "Let's write train and test functions"
      ]
    },
    {
      "cell_type": "code",
      "metadata": {
        "id": "_rmZ-u49XyEz",
        "colab_type": "code",
        "colab": {}
      },
      "source": [
        "test_loss_l1=[]\n",
        "test_acc_l1=[]\n",
        "test_loss_l2=[]\n",
        "test_acc_l2=[]\n",
        "test_loss_both=[]\n",
        "test_acc_both=[]\n",
        "test_loss_none=[]\n",
        "test_acc_none=[]"
      ],
      "execution_count": 0,
      "outputs": []
    },
    {
      "cell_type": "code",
      "metadata": {
        "id": "axnUcU7YjKdm",
        "colab_type": "code",
        "colab": {}
      },
      "source": [
        "import copy\n"
      ],
      "execution_count": 0,
      "outputs": []
    },
    {
      "cell_type": "code",
      "metadata": {
        "id": "fbkF2nN_LYIb",
        "colab_type": "code",
        "colab": {}
      },
      "source": [
        "from tqdm import tqdm\n",
        "train_losses = []\n",
        "test_losses = []\n",
        "train_acc = []\n",
        "test_acc = []\n",
        "\n",
        "misclassified=[]\n",
        "lambda1 = 0.0002\n",
        "lambda2 = 0.0001\n",
        "def train(model, device, train_loader, optimizer, epoch, reg):\n",
        "  model.train()\n",
        "  pbar = tqdm(train_loader)\n",
        "  correct = 0\n",
        "  processed = 0\n",
        "  for batch_idx, (data, target) in enumerate(pbar):\n",
        "    # get samples\n",
        "    data, target = data.to(device), target.to(device)\n",
        "\n",
        "    # Init\n",
        "    optimizer.zero_grad()\n",
        "    # In PyTorch, we need to set the gradients to zero before starting to do backpropragation because PyTorch accumulates the gradients on subsequent backward passes. \n",
        "    # Because of this, when you start your training loop, ideally you should zero out the gradients so that you do the parameter update correctly.\n",
        "\n",
        "    # Predict\n",
        "    y_pred = model(data)\n",
        "\n",
        "    # Calculate loss\n",
        "    loss = F.nll_loss(y_pred, target)\n",
        "    #loss += lambda1*torch.norm(model.parameters(),1)\n",
        "    #model_params = torch.cat([x.view(-1) for x in model.parameters()])\n",
        "    #loss += lambda1*torch.norm(model_params,1)\n",
        "    # regularization_loss = 0\n",
        "    # for param in model.parameters():\n",
        "    #   regularization_loss += torch.sum(torch.abs(param))\n",
        "    # loss += lambda1*regularization_loss\n",
        "    regularization_loss1 = 0\n",
        "    regularization_loss2 = 0\n",
        "\n",
        "    # for param in model.parameters():\n",
        "    #   regularization_loss1 += torch.norm(param,1)\n",
        "    #   regularization_loss2 += torch.norm(param,2)\n",
        "    # loss += (lambda1*regularization_loss1+lambda2*regularization_loss2)\n",
        "    if reg==\"None\":\n",
        "      train_losses.append(loss)\n",
        "    elif reg==\"L1\":\n",
        "      for param in model.parameters():\n",
        "        regularization_loss1 += torch.norm(param,1)\n",
        "      #regularization_loss2 += torch.norm(param,2)\n",
        "      loss += (lambda1*regularization_loss1)\n",
        "      train_losses.append(loss)\n",
        "    elif reg==\"L2\":\n",
        "      for param in model.parameters():\n",
        "        #regularization_loss1 += torch.norm(param,1)\n",
        "        regularization_loss2 += torch.norm(param,2)\n",
        "      loss += (lambda2*regularization_loss2)\n",
        "      train_losses.append(loss)\n",
        "    else:\n",
        "      for param in model.parameters():\n",
        "        regularization_loss1 += torch.norm(param,1)\n",
        "        regularization_loss2 += torch.norm(param,2)\n",
        "      loss += (lambda1*regularization_loss1+lambda2*regularization_loss2)\n",
        "      train_losses.append(loss)\n",
        "\n",
        "\n",
        "\n",
        "\n",
        "    # Backpropagation\n",
        "    loss.backward()\n",
        "    optimizer.step()\n",
        "\n",
        "    # Update pbar-tqdm\n",
        "    \n",
        "    pred = y_pred.argmax(dim=1, keepdim=True)  # get the index of the max log-probability\n",
        "    correct += pred.eq(target.view_as(pred)).sum().item()\n",
        "    processed += len(data)\n",
        "\n",
        "    pbar.set_description(desc= f'Loss={loss.item()} Batch_id={batch_idx} Accuracy={100*correct/processed:0.2f}')\n",
        "    train_acc.append(100*correct/processed)\n",
        "\n",
        "def test(model, device, test_loader, reg):\n",
        "    model.eval()\n",
        "    test_loss = 0\n",
        "    correct = 0\n",
        "    with torch.no_grad():\n",
        "        for data, target in test_loader:\n",
        "            data, target = data.to(device), target.to(device)\n",
        "            output = model(data)\n",
        "            test_loss += F.nll_loss(output, target, reduction='sum').item()  # sum up batch loss\n",
        "            pred = output.argmax(dim=1, keepdim=True)  # get the index of the max log-probability\n",
        "            temp = pred.eq(target.view_as(pred)).sum().item()\n",
        "            temp1 = target.view_as(pred)\n",
        "            if(len(misclassified)<25):\n",
        "              for i in range(len(temp1)):\n",
        "                if(temp1[i]!=pred[i]):\n",
        "                  misclassified.append([data[i],temp1[i],pred[i]])\n",
        "                if(len(misclassified)==25):\n",
        "                  break\n",
        "            correct += temp\n",
        "\n",
        "\n",
        "    test_loss /= len(test_loader.dataset)\n",
        "    test_losses.append(test_loss)\n",
        "\n",
        "    print('\\nTest set: Average loss: {:.4f}, Accuracy: {}/{} ({:.2f}%)\\n'.format(\n",
        "        test_loss, correct, len(test_loader.dataset),\n",
        "        100. * correct / len(test_loader.dataset)))\n",
        "    \n",
        "    test_acc.append(100. * correct / len(test_loader.dataset))\n",
        "    \n"
      ],
      "execution_count": 0,
      "outputs": []
    },
    {
      "cell_type": "markdown",
      "metadata": {
        "id": "drokW8wWODKq",
        "colab_type": "text"
      },
      "source": [
        "# Let's Train and test our model"
      ]
    },
    {
      "cell_type": "code",
      "metadata": {
        "id": "xMCFxeAKOB53",
        "colab_type": "code",
        "outputId": "ebb0e171-d4b7-46c8-d5c6-9c68bb8d26ca",
        "colab": {
          "base_uri": "https://localhost:8080/",
          "height": 1000
        }
      },
      "source": [
        "from torch.optim.lr_scheduler import StepLR\n",
        "\n",
        "model =  Net().to(device)\n",
        "optimizer = optim.SGD(model.parameters(), lr=0.01, momentum=0.9)\n",
        "scheduler = StepLR(optimizer, step_size=6, gamma=0.1)\n",
        "\n",
        "\n",
        "EPOCHS = 40\n",
        "for epoch in range(EPOCHS):\n",
        "    print(\"EPOCH:\", epoch)\n",
        "    train(model, device, train_loader, optimizer, epoch,\"None\")\n",
        "    # scheduler.step()\n",
        "    test(model, device, test_loader,\"None\")\n",
        "test_loss_none = copy.deepcopy(test_losses)\n",
        "test_acc_none = copy.deepcopy(test_acc)"
      ],
      "execution_count": 22,
      "outputs": [
        {
          "output_type": "stream",
          "text": [
            "\r  0%|          | 0/469 [00:00<?, ?it/s]"
          ],
          "name": "stderr"
        },
        {
          "output_type": "stream",
          "text": [
            "EPOCH: 0\n"
          ],
          "name": "stdout"
        },
        {
          "output_type": "stream",
          "text": [
            "Loss=0.1401270180940628 Batch_id=468 Accuracy=86.18: 100%|██████████| 469/469 [00:12<00:00, 36.40it/s]\n",
            "  0%|          | 0/469 [00:00<?, ?it/s]"
          ],
          "name": "stderr"
        },
        {
          "output_type": "stream",
          "text": [
            "\n",
            "Test set: Average loss: 0.1129, Accuracy: 9637/10000 (96.37%)\n",
            "\n",
            "EPOCH: 1\n"
          ],
          "name": "stdout"
        },
        {
          "output_type": "stream",
          "text": [
            "Loss=0.045258551836013794 Batch_id=468 Accuracy=97.32: 100%|██████████| 469/469 [00:12<00:00, 37.39it/s]\n",
            "  0%|          | 0/469 [00:00<?, ?it/s]"
          ],
          "name": "stderr"
        },
        {
          "output_type": "stream",
          "text": [
            "\n",
            "Test set: Average loss: 0.0509, Accuracy: 9847/10000 (98.47%)\n",
            "\n",
            "EPOCH: 2\n"
          ],
          "name": "stdout"
        },
        {
          "output_type": "stream",
          "text": [
            "Loss=0.0917506143450737 Batch_id=468 Accuracy=98.00: 100%|██████████| 469/469 [00:12<00:00, 37.00it/s]\n",
            "  0%|          | 0/469 [00:00<?, ?it/s]"
          ],
          "name": "stderr"
        },
        {
          "output_type": "stream",
          "text": [
            "\n",
            "Test set: Average loss: 0.0445, Accuracy: 9864/10000 (98.64%)\n",
            "\n",
            "EPOCH: 3\n"
          ],
          "name": "stdout"
        },
        {
          "output_type": "stream",
          "text": [
            "Loss=0.05570540204644203 Batch_id=468 Accuracy=98.22: 100%|██████████| 469/469 [00:12<00:00, 36.94it/s]\n",
            "  0%|          | 0/469 [00:00<?, ?it/s]"
          ],
          "name": "stderr"
        },
        {
          "output_type": "stream",
          "text": [
            "\n",
            "Test set: Average loss: 0.0373, Accuracy: 9886/10000 (98.86%)\n",
            "\n",
            "EPOCH: 4\n"
          ],
          "name": "stdout"
        },
        {
          "output_type": "stream",
          "text": [
            "Loss=0.04930825158953667 Batch_id=468 Accuracy=98.32: 100%|██████████| 469/469 [00:13<00:00, 35.39it/s]\n",
            "  0%|          | 0/469 [00:00<?, ?it/s]"
          ],
          "name": "stderr"
        },
        {
          "output_type": "stream",
          "text": [
            "\n",
            "Test set: Average loss: 0.0343, Accuracy: 9894/10000 (98.94%)\n",
            "\n",
            "EPOCH: 5\n"
          ],
          "name": "stdout"
        },
        {
          "output_type": "stream",
          "text": [
            "Loss=0.09817271679639816 Batch_id=468 Accuracy=98.49: 100%|██████████| 469/469 [00:12<00:00, 37.39it/s]\n",
            "  0%|          | 0/469 [00:00<?, ?it/s]"
          ],
          "name": "stderr"
        },
        {
          "output_type": "stream",
          "text": [
            "\n",
            "Test set: Average loss: 0.0315, Accuracy: 9910/10000 (99.10%)\n",
            "\n",
            "EPOCH: 6\n"
          ],
          "name": "stdout"
        },
        {
          "output_type": "stream",
          "text": [
            "Loss=0.06214096024632454 Batch_id=468 Accuracy=98.57: 100%|██████████| 469/469 [00:12<00:00, 36.95it/s]\n",
            "  0%|          | 0/469 [00:00<?, ?it/s]"
          ],
          "name": "stderr"
        },
        {
          "output_type": "stream",
          "text": [
            "\n",
            "Test set: Average loss: 0.0263, Accuracy: 9922/10000 (99.22%)\n",
            "\n",
            "EPOCH: 7\n"
          ],
          "name": "stdout"
        },
        {
          "output_type": "stream",
          "text": [
            "Loss=0.03899790719151497 Batch_id=468 Accuracy=98.61: 100%|██████████| 469/469 [00:12<00:00, 37.23it/s]\n",
            "  0%|          | 0/469 [00:00<?, ?it/s]"
          ],
          "name": "stderr"
        },
        {
          "output_type": "stream",
          "text": [
            "\n",
            "Test set: Average loss: 0.0294, Accuracy: 9915/10000 (99.15%)\n",
            "\n",
            "EPOCH: 8\n"
          ],
          "name": "stdout"
        },
        {
          "output_type": "stream",
          "text": [
            "Loss=0.07948768883943558 Batch_id=468 Accuracy=98.70: 100%|██████████| 469/469 [00:12<00:00, 36.94it/s]\n",
            "  0%|          | 0/469 [00:00<?, ?it/s]"
          ],
          "name": "stderr"
        },
        {
          "output_type": "stream",
          "text": [
            "\n",
            "Test set: Average loss: 0.0262, Accuracy: 9924/10000 (99.24%)\n",
            "\n",
            "EPOCH: 9\n"
          ],
          "name": "stdout"
        },
        {
          "output_type": "stream",
          "text": [
            "Loss=0.005800396203994751 Batch_id=468 Accuracy=98.78: 100%|██████████| 469/469 [00:12<00:00, 37.39it/s]\n",
            "  0%|          | 0/469 [00:00<?, ?it/s]"
          ],
          "name": "stderr"
        },
        {
          "output_type": "stream",
          "text": [
            "\n",
            "Test set: Average loss: 0.0312, Accuracy: 9900/10000 (99.00%)\n",
            "\n",
            "EPOCH: 10\n"
          ],
          "name": "stdout"
        },
        {
          "output_type": "stream",
          "text": [
            "Loss=0.029703276231884956 Batch_id=468 Accuracy=98.78: 100%|██████████| 469/469 [00:12<00:00, 36.71it/s]\n",
            "  0%|          | 0/469 [00:00<?, ?it/s]"
          ],
          "name": "stderr"
        },
        {
          "output_type": "stream",
          "text": [
            "\n",
            "Test set: Average loss: 0.0239, Accuracy: 9925/10000 (99.25%)\n",
            "\n",
            "EPOCH: 11\n"
          ],
          "name": "stdout"
        },
        {
          "output_type": "stream",
          "text": [
            "Loss=0.015077312476933002 Batch_id=468 Accuracy=98.86: 100%|██████████| 469/469 [00:12<00:00, 37.27it/s]\n",
            "  0%|          | 0/469 [00:00<?, ?it/s]"
          ],
          "name": "stderr"
        },
        {
          "output_type": "stream",
          "text": [
            "\n",
            "Test set: Average loss: 0.0250, Accuracy: 9922/10000 (99.22%)\n",
            "\n",
            "EPOCH: 12\n"
          ],
          "name": "stdout"
        },
        {
          "output_type": "stream",
          "text": [
            "Loss=0.007399335503578186 Batch_id=468 Accuracy=98.86: 100%|██████████| 469/469 [00:12<00:00, 36.91it/s]\n",
            "  0%|          | 0/469 [00:00<?, ?it/s]"
          ],
          "name": "stderr"
        },
        {
          "output_type": "stream",
          "text": [
            "\n",
            "Test set: Average loss: 0.0258, Accuracy: 9914/10000 (99.14%)\n",
            "\n",
            "EPOCH: 13\n"
          ],
          "name": "stdout"
        },
        {
          "output_type": "stream",
          "text": [
            "Loss=0.04520180821418762 Batch_id=468 Accuracy=98.89: 100%|██████████| 469/469 [00:12<00:00, 37.29it/s]\n",
            "  0%|          | 0/469 [00:00<?, ?it/s]"
          ],
          "name": "stderr"
        },
        {
          "output_type": "stream",
          "text": [
            "\n",
            "Test set: Average loss: 0.0251, Accuracy: 9923/10000 (99.23%)\n",
            "\n",
            "EPOCH: 14\n"
          ],
          "name": "stdout"
        },
        {
          "output_type": "stream",
          "text": [
            "Loss=0.011414195410907269 Batch_id=468 Accuracy=98.86: 100%|██████████| 469/469 [00:12<00:00, 37.35it/s]\n",
            "  0%|          | 0/469 [00:00<?, ?it/s]"
          ],
          "name": "stderr"
        },
        {
          "output_type": "stream",
          "text": [
            "\n",
            "Test set: Average loss: 0.0230, Accuracy: 9929/10000 (99.29%)\n",
            "\n",
            "EPOCH: 15\n"
          ],
          "name": "stdout"
        },
        {
          "output_type": "stream",
          "text": [
            "Loss=0.09132629632949829 Batch_id=468 Accuracy=98.93: 100%|██████████| 469/469 [00:12<00:00, 36.91it/s]\n",
            "  0%|          | 0/469 [00:00<?, ?it/s]"
          ],
          "name": "stderr"
        },
        {
          "output_type": "stream",
          "text": [
            "\n",
            "Test set: Average loss: 0.0228, Accuracy: 9928/10000 (99.28%)\n",
            "\n",
            "EPOCH: 16\n"
          ],
          "name": "stdout"
        },
        {
          "output_type": "stream",
          "text": [
            "Loss=0.0542064905166626 Batch_id=468 Accuracy=98.98: 100%|██████████| 469/469 [00:12<00:00, 37.07it/s]\n",
            "  0%|          | 0/469 [00:00<?, ?it/s]"
          ],
          "name": "stderr"
        },
        {
          "output_type": "stream",
          "text": [
            "\n",
            "Test set: Average loss: 0.0213, Accuracy: 9934/10000 (99.34%)\n",
            "\n",
            "EPOCH: 17\n"
          ],
          "name": "stdout"
        },
        {
          "output_type": "stream",
          "text": [
            "Loss=0.006407991051673889 Batch_id=468 Accuracy=99.05: 100%|██████████| 469/469 [00:12<00:00, 36.79it/s]\n",
            "  0%|          | 0/469 [00:00<?, ?it/s]"
          ],
          "name": "stderr"
        },
        {
          "output_type": "stream",
          "text": [
            "\n",
            "Test set: Average loss: 0.0203, Accuracy: 9937/10000 (99.37%)\n",
            "\n",
            "EPOCH: 18\n"
          ],
          "name": "stdout"
        },
        {
          "output_type": "stream",
          "text": [
            "Loss=0.0930556133389473 Batch_id=468 Accuracy=99.05: 100%|██████████| 469/469 [00:12<00:00, 37.46it/s]\n",
            "  0%|          | 0/469 [00:00<?, ?it/s]"
          ],
          "name": "stderr"
        },
        {
          "output_type": "stream",
          "text": [
            "\n",
            "Test set: Average loss: 0.0202, Accuracy: 9938/10000 (99.38%)\n",
            "\n",
            "EPOCH: 19\n"
          ],
          "name": "stdout"
        },
        {
          "output_type": "stream",
          "text": [
            "Loss=0.048024822026491165 Batch_id=468 Accuracy=99.04: 100%|██████████| 469/469 [00:12<00:00, 37.53it/s]\n",
            "  0%|          | 0/469 [00:00<?, ?it/s]"
          ],
          "name": "stderr"
        },
        {
          "output_type": "stream",
          "text": [
            "\n",
            "Test set: Average loss: 0.0214, Accuracy: 9935/10000 (99.35%)\n",
            "\n",
            "EPOCH: 20\n"
          ],
          "name": "stdout"
        },
        {
          "output_type": "stream",
          "text": [
            "Loss=0.00857128668576479 Batch_id=468 Accuracy=99.06: 100%|██████████| 469/469 [00:12<00:00, 37.12it/s]\n",
            "  0%|          | 0/469 [00:00<?, ?it/s]"
          ],
          "name": "stderr"
        },
        {
          "output_type": "stream",
          "text": [
            "\n",
            "Test set: Average loss: 0.0226, Accuracy: 9936/10000 (99.36%)\n",
            "\n",
            "EPOCH: 21\n"
          ],
          "name": "stdout"
        },
        {
          "output_type": "stream",
          "text": [
            "Loss=0.043766751885414124 Batch_id=468 Accuracy=99.04: 100%|██████████| 469/469 [00:12<00:00, 36.51it/s]\n",
            "  0%|          | 0/469 [00:00<?, ?it/s]"
          ],
          "name": "stderr"
        },
        {
          "output_type": "stream",
          "text": [
            "\n",
            "Test set: Average loss: 0.0209, Accuracy: 9935/10000 (99.35%)\n",
            "\n",
            "EPOCH: 22\n"
          ],
          "name": "stdout"
        },
        {
          "output_type": "stream",
          "text": [
            "Loss=0.1041896715760231 Batch_id=468 Accuracy=99.09: 100%|██████████| 469/469 [00:12<00:00, 36.97it/s]\n",
            "  0%|          | 0/469 [00:00<?, ?it/s]"
          ],
          "name": "stderr"
        },
        {
          "output_type": "stream",
          "text": [
            "\n",
            "Test set: Average loss: 0.0201, Accuracy: 9938/10000 (99.38%)\n",
            "\n",
            "EPOCH: 23\n"
          ],
          "name": "stdout"
        },
        {
          "output_type": "stream",
          "text": [
            "Loss=0.02534707449376583 Batch_id=468 Accuracy=99.14: 100%|██████████| 469/469 [00:12<00:00, 37.48it/s]\n",
            "  0%|          | 0/469 [00:00<?, ?it/s]"
          ],
          "name": "stderr"
        },
        {
          "output_type": "stream",
          "text": [
            "\n",
            "Test set: Average loss: 0.0212, Accuracy: 9934/10000 (99.34%)\n",
            "\n",
            "EPOCH: 24\n"
          ],
          "name": "stdout"
        },
        {
          "output_type": "stream",
          "text": [
            "Loss=0.029332011938095093 Batch_id=468 Accuracy=99.03: 100%|██████████| 469/469 [00:12<00:00, 37.06it/s]\n",
            "  0%|          | 0/469 [00:00<?, ?it/s]"
          ],
          "name": "stderr"
        },
        {
          "output_type": "stream",
          "text": [
            "\n",
            "Test set: Average loss: 0.0216, Accuracy: 9935/10000 (99.35%)\n",
            "\n",
            "EPOCH: 25\n"
          ],
          "name": "stdout"
        },
        {
          "output_type": "stream",
          "text": [
            "Loss=0.03252917900681496 Batch_id=468 Accuracy=99.10: 100%|██████████| 469/469 [00:12<00:00, 36.20it/s]\n",
            "  0%|          | 0/469 [00:00<?, ?it/s]"
          ],
          "name": "stderr"
        },
        {
          "output_type": "stream",
          "text": [
            "\n",
            "Test set: Average loss: 0.0217, Accuracy: 9936/10000 (99.36%)\n",
            "\n",
            "EPOCH: 26\n"
          ],
          "name": "stdout"
        },
        {
          "output_type": "stream",
          "text": [
            "Loss=0.043249547481536865 Batch_id=468 Accuracy=99.07: 100%|██████████| 469/469 [00:12<00:00, 36.91it/s]\n",
            "  0%|          | 0/469 [00:00<?, ?it/s]"
          ],
          "name": "stderr"
        },
        {
          "output_type": "stream",
          "text": [
            "\n",
            "Test set: Average loss: 0.0206, Accuracy: 9937/10000 (99.37%)\n",
            "\n",
            "EPOCH: 27\n"
          ],
          "name": "stdout"
        },
        {
          "output_type": "stream",
          "text": [
            "Loss=0.0055266269482672215 Batch_id=468 Accuracy=99.18: 100%|██████████| 469/469 [00:12<00:00, 36.54it/s]\n",
            "  0%|          | 0/469 [00:00<?, ?it/s]"
          ],
          "name": "stderr"
        },
        {
          "output_type": "stream",
          "text": [
            "\n",
            "Test set: Average loss: 0.0185, Accuracy: 9941/10000 (99.41%)\n",
            "\n",
            "EPOCH: 28\n"
          ],
          "name": "stdout"
        },
        {
          "output_type": "stream",
          "text": [
            "Loss=0.015078569762408733 Batch_id=468 Accuracy=99.12: 100%|██████████| 469/469 [00:12<00:00, 37.46it/s]\n",
            "  0%|          | 0/469 [00:00<?, ?it/s]"
          ],
          "name": "stderr"
        },
        {
          "output_type": "stream",
          "text": [
            "\n",
            "Test set: Average loss: 0.0168, Accuracy: 9946/10000 (99.46%)\n",
            "\n",
            "EPOCH: 29\n"
          ],
          "name": "stdout"
        },
        {
          "output_type": "stream",
          "text": [
            "Loss=0.005826363805681467 Batch_id=468 Accuracy=99.15: 100%|██████████| 469/469 [00:12<00:00, 36.64it/s]\n",
            "  0%|          | 0/469 [00:00<?, ?it/s]"
          ],
          "name": "stderr"
        },
        {
          "output_type": "stream",
          "text": [
            "\n",
            "Test set: Average loss: 0.0187, Accuracy: 9942/10000 (99.42%)\n",
            "\n",
            "EPOCH: 30\n"
          ],
          "name": "stdout"
        },
        {
          "output_type": "stream",
          "text": [
            "Loss=0.009447897784411907 Batch_id=468 Accuracy=99.14: 100%|██████████| 469/469 [00:12<00:00, 37.37it/s]\n",
            "  0%|          | 0/469 [00:00<?, ?it/s]"
          ],
          "name": "stderr"
        },
        {
          "output_type": "stream",
          "text": [
            "\n",
            "Test set: Average loss: 0.0196, Accuracy: 9940/10000 (99.40%)\n",
            "\n",
            "EPOCH: 31\n"
          ],
          "name": "stdout"
        },
        {
          "output_type": "stream",
          "text": [
            "Loss=0.009196966886520386 Batch_id=468 Accuracy=99.09: 100%|██████████| 469/469 [00:12<00:00, 37.34it/s]\n",
            "  0%|          | 0/469 [00:00<?, ?it/s]"
          ],
          "name": "stderr"
        },
        {
          "output_type": "stream",
          "text": [
            "\n",
            "Test set: Average loss: 0.0228, Accuracy: 9930/10000 (99.30%)\n",
            "\n",
            "EPOCH: 32\n"
          ],
          "name": "stdout"
        },
        {
          "output_type": "stream",
          "text": [
            "Loss=0.015831857919692993 Batch_id=468 Accuracy=99.13: 100%|██████████| 469/469 [00:12<00:00, 37.45it/s]\n",
            "  0%|          | 0/469 [00:00<?, ?it/s]"
          ],
          "name": "stderr"
        },
        {
          "output_type": "stream",
          "text": [
            "\n",
            "Test set: Average loss: 0.0219, Accuracy: 9935/10000 (99.35%)\n",
            "\n",
            "EPOCH: 33\n"
          ],
          "name": "stdout"
        },
        {
          "output_type": "stream",
          "text": [
            "Loss=0.03437383845448494 Batch_id=468 Accuracy=99.14: 100%|██████████| 469/469 [00:12<00:00, 41.30it/s]\n",
            "  0%|          | 0/469 [00:00<?, ?it/s]"
          ],
          "name": "stderr"
        },
        {
          "output_type": "stream",
          "text": [
            "\n",
            "Test set: Average loss: 0.0201, Accuracy: 9937/10000 (99.37%)\n",
            "\n",
            "EPOCH: 34\n"
          ],
          "name": "stdout"
        },
        {
          "output_type": "stream",
          "text": [
            "Loss=0.017832636833190918 Batch_id=468 Accuracy=99.17: 100%|██████████| 469/469 [00:12<00:00, 37.72it/s]\n",
            "  0%|          | 0/469 [00:00<?, ?it/s]"
          ],
          "name": "stderr"
        },
        {
          "output_type": "stream",
          "text": [
            "\n",
            "Test set: Average loss: 0.0186, Accuracy: 9946/10000 (99.46%)\n",
            "\n",
            "EPOCH: 35\n"
          ],
          "name": "stdout"
        },
        {
          "output_type": "stream",
          "text": [
            "Loss=0.01110758911818266 Batch_id=468 Accuracy=99.21: 100%|██████████| 469/469 [00:12<00:00, 37.45it/s]\n",
            "  0%|          | 0/469 [00:00<?, ?it/s]"
          ],
          "name": "stderr"
        },
        {
          "output_type": "stream",
          "text": [
            "\n",
            "Test set: Average loss: 0.0179, Accuracy: 9945/10000 (99.45%)\n",
            "\n",
            "EPOCH: 36\n"
          ],
          "name": "stdout"
        },
        {
          "output_type": "stream",
          "text": [
            "Loss=0.013588200323283672 Batch_id=468 Accuracy=99.14: 100%|██████████| 469/469 [00:12<00:00, 37.36it/s]\n",
            "  0%|          | 0/469 [00:00<?, ?it/s]"
          ],
          "name": "stderr"
        },
        {
          "output_type": "stream",
          "text": [
            "\n",
            "Test set: Average loss: 0.0192, Accuracy: 9943/10000 (99.43%)\n",
            "\n",
            "EPOCH: 37\n"
          ],
          "name": "stdout"
        },
        {
          "output_type": "stream",
          "text": [
            "Loss=0.050238754600286484 Batch_id=468 Accuracy=99.17: 100%|██████████| 469/469 [00:12<00:00, 37.27it/s]\n",
            "  0%|          | 0/469 [00:00<?, ?it/s]"
          ],
          "name": "stderr"
        },
        {
          "output_type": "stream",
          "text": [
            "\n",
            "Test set: Average loss: 0.0182, Accuracy: 9946/10000 (99.46%)\n",
            "\n",
            "EPOCH: 38\n"
          ],
          "name": "stdout"
        },
        {
          "output_type": "stream",
          "text": [
            "Loss=0.22252321243286133 Batch_id=468 Accuracy=99.22: 100%|██████████| 469/469 [00:12<00:00, 36.40it/s]\n",
            "  0%|          | 0/469 [00:00<?, ?it/s]"
          ],
          "name": "stderr"
        },
        {
          "output_type": "stream",
          "text": [
            "\n",
            "Test set: Average loss: 0.0194, Accuracy: 9943/10000 (99.43%)\n",
            "\n",
            "EPOCH: 39\n"
          ],
          "name": "stdout"
        },
        {
          "output_type": "stream",
          "text": [
            "Loss=0.013240297324955463 Batch_id=468 Accuracy=99.18: 100%|██████████| 469/469 [00:12<00:00, 36.93it/s]\n"
          ],
          "name": "stderr"
        },
        {
          "output_type": "stream",
          "text": [
            "\n",
            "Test set: Average loss: 0.0183, Accuracy: 9943/10000 (99.43%)\n",
            "\n"
          ],
          "name": "stdout"
        }
      ]
    },
    {
      "cell_type": "code",
      "metadata": {
        "id": "gM5wGlC_iazk",
        "colab_type": "code",
        "colab": {
          "base_uri": "https://localhost:8080/",
          "height": 35
        },
        "outputId": "83b53abb-44c7-4022-8002-6e8692bf4c93"
      },
      "source": [
        "len(test_loss_none)"
      ],
      "execution_count": 25,
      "outputs": [
        {
          "output_type": "execute_result",
          "data": {
            "text/plain": [
              "40"
            ]
          },
          "metadata": {
            "tags": []
          },
          "execution_count": 25
        }
      ]
    },
    {
      "cell_type": "code",
      "metadata": {
        "id": "BrHJbsI9YBTm",
        "colab_type": "code",
        "colab": {
          "base_uri": "https://localhost:8080/",
          "height": 1000
        },
        "outputId": "fa33828f-eff5-4b10-a9c0-9d54733d0ad5"
      },
      "source": [
        "from torch.optim.lr_scheduler import StepLR\n",
        "\n",
        "model =  Net().to(device)\n",
        "optimizer = optim.SGD(model.parameters(), lr=0.01, momentum=0.9)\n",
        "scheduler = StepLR(optimizer, step_size=6, gamma=0.1)\n",
        "EPOCHS = 40\n",
        "for epoch in range(EPOCHS):\n",
        "    print(\"EPOCH:\", epoch)\n",
        "    train(model, device, train_loader, optimizer, epoch,\"L1\")\n",
        "    # scheduler.step()\n",
        "    test(model, device, test_loader,\"L1\")\n",
        "test_loss_l1 = copy.deepcopy(test_losses)\n",
        "test_acc_l1 = copy.deepcopy(test_acc)"
      ],
      "execution_count": 35,
      "outputs": [
        {
          "output_type": "stream",
          "text": [
            "\r  0%|          | 0/469 [00:00<?, ?it/s]"
          ],
          "name": "stderr"
        },
        {
          "output_type": "stream",
          "text": [
            "EPOCH: 0\n"
          ],
          "name": "stdout"
        },
        {
          "output_type": "stream",
          "text": [
            "Loss=0.20243285596370697 Batch_id=468 Accuracy=87.64: 100%|██████████| 469/469 [00:13<00:00, 37.87it/s]\n",
            "  0%|          | 0/469 [00:00<?, ?it/s]"
          ],
          "name": "stderr"
        },
        {
          "output_type": "stream",
          "text": [
            "\n",
            "Test set: Average loss: 0.0806, Accuracy: 9777/10000 (97.77%)\n",
            "\n",
            "EPOCH: 1\n"
          ],
          "name": "stdout"
        },
        {
          "output_type": "stream",
          "text": [
            "Loss=0.17148146033287048 Batch_id=468 Accuracy=97.40: 100%|██████████| 469/469 [00:14<00:00, 33.11it/s]\n",
            "  0%|          | 0/469 [00:00<?, ?it/s]"
          ],
          "name": "stderr"
        },
        {
          "output_type": "stream",
          "text": [
            "\n",
            "Test set: Average loss: 0.0534, Accuracy: 9835/10000 (98.35%)\n",
            "\n",
            "EPOCH: 2\n"
          ],
          "name": "stdout"
        },
        {
          "output_type": "stream",
          "text": [
            "Loss=0.1690727174282074 Batch_id=468 Accuracy=97.92: 100%|██████████| 469/469 [00:13<00:00, 33.55it/s]\n",
            "  0%|          | 0/469 [00:00<?, ?it/s]"
          ],
          "name": "stderr"
        },
        {
          "output_type": "stream",
          "text": [
            "\n",
            "Test set: Average loss: 0.0384, Accuracy: 9886/10000 (98.86%)\n",
            "\n",
            "EPOCH: 3\n"
          ],
          "name": "stdout"
        },
        {
          "output_type": "stream",
          "text": [
            "Loss=0.16681265830993652 Batch_id=468 Accuracy=98.15: 100%|██████████| 469/469 [00:13<00:00, 33.51it/s]\n",
            "  0%|          | 0/469 [00:00<?, ?it/s]"
          ],
          "name": "stderr"
        },
        {
          "output_type": "stream",
          "text": [
            "\n",
            "Test set: Average loss: 0.0416, Accuracy: 9878/10000 (98.78%)\n",
            "\n",
            "EPOCH: 4\n"
          ],
          "name": "stdout"
        },
        {
          "output_type": "stream",
          "text": [
            "Loss=0.11734145879745483 Batch_id=468 Accuracy=98.23: 100%|██████████| 469/469 [00:14<00:00, 33.22it/s]\n",
            "  0%|          | 0/469 [00:00<?, ?it/s]"
          ],
          "name": "stderr"
        },
        {
          "output_type": "stream",
          "text": [
            "\n",
            "Test set: Average loss: 0.0424, Accuracy: 9863/10000 (98.63%)\n",
            "\n",
            "EPOCH: 5\n"
          ],
          "name": "stdout"
        },
        {
          "output_type": "stream",
          "text": [
            "Loss=0.17267164587974548 Batch_id=468 Accuracy=98.36: 100%|██████████| 469/469 [00:13<00:00, 39.23it/s]\n",
            "  0%|          | 0/469 [00:00<?, ?it/s]"
          ],
          "name": "stderr"
        },
        {
          "output_type": "stream",
          "text": [
            "\n",
            "Test set: Average loss: 0.0374, Accuracy: 9890/10000 (98.90%)\n",
            "\n",
            "EPOCH: 6\n"
          ],
          "name": "stdout"
        },
        {
          "output_type": "stream",
          "text": [
            "Loss=0.09715767204761505 Batch_id=468 Accuracy=98.42: 100%|██████████| 469/469 [00:13<00:00, 33.50it/s]\n",
            "  0%|          | 0/469 [00:00<?, ?it/s]"
          ],
          "name": "stderr"
        },
        {
          "output_type": "stream",
          "text": [
            "\n",
            "Test set: Average loss: 0.0308, Accuracy: 9899/10000 (98.99%)\n",
            "\n",
            "EPOCH: 7\n"
          ],
          "name": "stdout"
        },
        {
          "output_type": "stream",
          "text": [
            "Loss=0.18211890757083893 Batch_id=468 Accuracy=98.45: 100%|██████████| 469/469 [00:13<00:00, 33.55it/s]\n",
            "  0%|          | 0/469 [00:00<?, ?it/s]"
          ],
          "name": "stderr"
        },
        {
          "output_type": "stream",
          "text": [
            "\n",
            "Test set: Average loss: 0.0324, Accuracy: 9896/10000 (98.96%)\n",
            "\n",
            "EPOCH: 8\n"
          ],
          "name": "stdout"
        },
        {
          "output_type": "stream",
          "text": [
            "Loss=0.13859692215919495 Batch_id=468 Accuracy=98.47: 100%|██████████| 469/469 [00:13<00:00, 33.70it/s]\n",
            "  0%|          | 0/469 [00:00<?, ?it/s]"
          ],
          "name": "stderr"
        },
        {
          "output_type": "stream",
          "text": [
            "\n",
            "Test set: Average loss: 0.0441, Accuracy: 9859/10000 (98.59%)\n",
            "\n",
            "EPOCH: 9\n"
          ],
          "name": "stdout"
        },
        {
          "output_type": "stream",
          "text": [
            "Loss=0.08641166985034943 Batch_id=468 Accuracy=98.44: 100%|██████████| 469/469 [00:14<00:00, 32.73it/s]\n",
            "  0%|          | 0/469 [00:00<?, ?it/s]"
          ],
          "name": "stderr"
        },
        {
          "output_type": "stream",
          "text": [
            "\n",
            "Test set: Average loss: 0.0340, Accuracy: 9893/10000 (98.93%)\n",
            "\n",
            "EPOCH: 10\n"
          ],
          "name": "stdout"
        },
        {
          "output_type": "stream",
          "text": [
            "Loss=0.11144135892391205 Batch_id=468 Accuracy=98.50: 100%|██████████| 469/469 [00:14<00:00, 33.11it/s]\n",
            "  0%|          | 0/469 [00:00<?, ?it/s]"
          ],
          "name": "stderr"
        },
        {
          "output_type": "stream",
          "text": [
            "\n",
            "Test set: Average loss: 0.0363, Accuracy: 9871/10000 (98.71%)\n",
            "\n",
            "EPOCH: 11\n"
          ],
          "name": "stdout"
        },
        {
          "output_type": "stream",
          "text": [
            "Loss=0.10721886157989502 Batch_id=468 Accuracy=98.49: 100%|██████████| 469/469 [00:13<00:00, 33.70it/s]\n",
            "  0%|          | 0/469 [00:00<?, ?it/s]"
          ],
          "name": "stderr"
        },
        {
          "output_type": "stream",
          "text": [
            "\n",
            "Test set: Average loss: 0.0325, Accuracy: 9900/10000 (99.00%)\n",
            "\n",
            "EPOCH: 12\n"
          ],
          "name": "stdout"
        },
        {
          "output_type": "stream",
          "text": [
            "Loss=0.127900630235672 Batch_id=468 Accuracy=98.52: 100%|██████████| 469/469 [00:14<00:00, 33.49it/s]\n",
            "  0%|          | 0/469 [00:00<?, ?it/s]"
          ],
          "name": "stderr"
        },
        {
          "output_type": "stream",
          "text": [
            "\n",
            "Test set: Average loss: 0.0338, Accuracy: 9896/10000 (98.96%)\n",
            "\n",
            "EPOCH: 13\n"
          ],
          "name": "stdout"
        },
        {
          "output_type": "stream",
          "text": [
            "Loss=0.18424144387245178 Batch_id=468 Accuracy=98.53: 100%|██████████| 469/469 [00:14<00:00, 33.01it/s]\n",
            "  0%|          | 0/469 [00:00<?, ?it/s]"
          ],
          "name": "stderr"
        },
        {
          "output_type": "stream",
          "text": [
            "\n",
            "Test set: Average loss: 0.0298, Accuracy: 9912/10000 (99.12%)\n",
            "\n",
            "EPOCH: 14\n"
          ],
          "name": "stdout"
        },
        {
          "output_type": "stream",
          "text": [
            "Loss=0.08979859948158264 Batch_id=468 Accuracy=98.55: 100%|██████████| 469/469 [00:14<00:00, 32.69it/s]\n",
            "  0%|          | 0/469 [00:00<?, ?it/s]"
          ],
          "name": "stderr"
        },
        {
          "output_type": "stream",
          "text": [
            "\n",
            "Test set: Average loss: 0.0287, Accuracy: 9904/10000 (99.04%)\n",
            "\n",
            "EPOCH: 15\n"
          ],
          "name": "stdout"
        },
        {
          "output_type": "stream",
          "text": [
            "Loss=0.09828133881092072 Batch_id=468 Accuracy=98.56: 100%|██████████| 469/469 [00:13<00:00, 33.56it/s]\n",
            "  0%|          | 0/469 [00:00<?, ?it/s]"
          ],
          "name": "stderr"
        },
        {
          "output_type": "stream",
          "text": [
            "\n",
            "Test set: Average loss: 0.0310, Accuracy: 9901/10000 (99.01%)\n",
            "\n",
            "EPOCH: 16\n"
          ],
          "name": "stdout"
        },
        {
          "output_type": "stream",
          "text": [
            "Loss=0.09989552199840546 Batch_id=468 Accuracy=98.65: 100%|██████████| 469/469 [00:13<00:00, 33.67it/s]\n",
            "  0%|          | 0/469 [00:00<?, ?it/s]"
          ],
          "name": "stderr"
        },
        {
          "output_type": "stream",
          "text": [
            "\n",
            "Test set: Average loss: 0.0305, Accuracy: 9899/10000 (98.99%)\n",
            "\n",
            "EPOCH: 17\n"
          ],
          "name": "stdout"
        },
        {
          "output_type": "stream",
          "text": [
            "Loss=0.09785758703947067 Batch_id=468 Accuracy=98.56: 100%|██████████| 469/469 [00:14<00:00, 33.31it/s]\n",
            "  0%|          | 0/469 [00:00<?, ?it/s]"
          ],
          "name": "stderr"
        },
        {
          "output_type": "stream",
          "text": [
            "\n",
            "Test set: Average loss: 0.0308, Accuracy: 9898/10000 (98.98%)\n",
            "\n",
            "EPOCH: 18\n"
          ],
          "name": "stdout"
        },
        {
          "output_type": "stream",
          "text": [
            "Loss=0.10460863262414932 Batch_id=468 Accuracy=98.62: 100%|██████████| 469/469 [00:14<00:00, 33.47it/s]\n",
            "  0%|          | 0/469 [00:00<?, ?it/s]"
          ],
          "name": "stderr"
        },
        {
          "output_type": "stream",
          "text": [
            "\n",
            "Test set: Average loss: 0.0265, Accuracy: 9913/10000 (99.13%)\n",
            "\n",
            "EPOCH: 19\n"
          ],
          "name": "stdout"
        },
        {
          "output_type": "stream",
          "text": [
            "Loss=0.11176940053701401 Batch_id=468 Accuracy=98.62: 100%|██████████| 469/469 [00:13<00:00, 33.56it/s]\n",
            "  0%|          | 0/469 [00:00<?, ?it/s]"
          ],
          "name": "stderr"
        },
        {
          "output_type": "stream",
          "text": [
            "\n",
            "Test set: Average loss: 0.0267, Accuracy: 9910/10000 (99.10%)\n",
            "\n",
            "EPOCH: 20\n"
          ],
          "name": "stdout"
        },
        {
          "output_type": "stream",
          "text": [
            "Loss=0.10731348395347595 Batch_id=468 Accuracy=98.71: 100%|██████████| 469/469 [00:13<00:00, 33.72it/s]\n",
            "  0%|          | 0/469 [00:00<?, ?it/s]"
          ],
          "name": "stderr"
        },
        {
          "output_type": "stream",
          "text": [
            "\n",
            "Test set: Average loss: 0.0256, Accuracy: 9924/10000 (99.24%)\n",
            "\n",
            "EPOCH: 21\n"
          ],
          "name": "stdout"
        },
        {
          "output_type": "stream",
          "text": [
            "Loss=0.09496191889047623 Batch_id=468 Accuracy=98.71: 100%|██████████| 469/469 [00:14<00:00, 33.07it/s]\n",
            "  0%|          | 0/469 [00:00<?, ?it/s]"
          ],
          "name": "stderr"
        },
        {
          "output_type": "stream",
          "text": [
            "\n",
            "Test set: Average loss: 0.0373, Accuracy: 9879/10000 (98.79%)\n",
            "\n",
            "EPOCH: 22\n"
          ],
          "name": "stdout"
        },
        {
          "output_type": "stream",
          "text": [
            "Loss=0.14333978295326233 Batch_id=468 Accuracy=98.60: 100%|██████████| 469/469 [00:13<00:00, 33.95it/s]\n",
            "  0%|          | 0/469 [00:00<?, ?it/s]"
          ],
          "name": "stderr"
        },
        {
          "output_type": "stream",
          "text": [
            "\n",
            "Test set: Average loss: 0.0281, Accuracy: 9908/10000 (99.08%)\n",
            "\n",
            "EPOCH: 23\n"
          ],
          "name": "stdout"
        },
        {
          "output_type": "stream",
          "text": [
            "Loss=0.13518348336219788 Batch_id=468 Accuracy=98.63: 100%|██████████| 469/469 [00:13<00:00, 33.98it/s]\n",
            "  0%|          | 0/469 [00:00<?, ?it/s]"
          ],
          "name": "stderr"
        },
        {
          "output_type": "stream",
          "text": [
            "\n",
            "Test set: Average loss: 0.0324, Accuracy: 9897/10000 (98.97%)\n",
            "\n",
            "EPOCH: 24\n"
          ],
          "name": "stdout"
        },
        {
          "output_type": "stream",
          "text": [
            "Loss=0.08773325383663177 Batch_id=468 Accuracy=98.72: 100%|██████████| 469/469 [00:13<00:00, 33.87it/s]\n",
            "  0%|          | 0/469 [00:00<?, ?it/s]"
          ],
          "name": "stderr"
        },
        {
          "output_type": "stream",
          "text": [
            "\n",
            "Test set: Average loss: 0.0268, Accuracy: 9921/10000 (99.21%)\n",
            "\n",
            "EPOCH: 25\n"
          ],
          "name": "stdout"
        },
        {
          "output_type": "stream",
          "text": [
            "Loss=0.18638917803764343 Batch_id=468 Accuracy=98.64: 100%|██████████| 469/469 [00:14<00:00, 33.38it/s]\n",
            "  0%|          | 0/469 [00:00<?, ?it/s]"
          ],
          "name": "stderr"
        },
        {
          "output_type": "stream",
          "text": [
            "\n",
            "Test set: Average loss: 0.0329, Accuracy: 9902/10000 (99.02%)\n",
            "\n",
            "EPOCH: 26\n"
          ],
          "name": "stdout"
        },
        {
          "output_type": "stream",
          "text": [
            "Loss=0.12295925617218018 Batch_id=468 Accuracy=98.65: 100%|██████████| 469/469 [00:13<00:00, 34.25it/s]\n",
            "  0%|          | 0/469 [00:00<?, ?it/s]"
          ],
          "name": "stderr"
        },
        {
          "output_type": "stream",
          "text": [
            "\n",
            "Test set: Average loss: 0.0352, Accuracy: 9901/10000 (99.01%)\n",
            "\n",
            "EPOCH: 27\n"
          ],
          "name": "stdout"
        },
        {
          "output_type": "stream",
          "text": [
            "Loss=0.11453759670257568 Batch_id=468 Accuracy=98.61: 100%|██████████| 469/469 [00:13<00:00, 33.87it/s]\n",
            "  0%|          | 0/469 [00:00<?, ?it/s]"
          ],
          "name": "stderr"
        },
        {
          "output_type": "stream",
          "text": [
            "\n",
            "Test set: Average loss: 0.0291, Accuracy: 9917/10000 (99.17%)\n",
            "\n",
            "EPOCH: 28\n"
          ],
          "name": "stdout"
        },
        {
          "output_type": "stream",
          "text": [
            "Loss=0.1061607375741005 Batch_id=468 Accuracy=98.69: 100%|██████████| 469/469 [00:13<00:00, 34.15it/s]\n",
            "  0%|          | 0/469 [00:00<?, ?it/s]"
          ],
          "name": "stderr"
        },
        {
          "output_type": "stream",
          "text": [
            "\n",
            "Test set: Average loss: 0.0253, Accuracy: 9914/10000 (99.14%)\n",
            "\n",
            "EPOCH: 29\n"
          ],
          "name": "stdout"
        },
        {
          "output_type": "stream",
          "text": [
            "Loss=0.10824026167392731 Batch_id=468 Accuracy=98.74: 100%|██████████| 469/469 [00:14<00:00, 32.85it/s]\n",
            "  0%|          | 0/469 [00:00<?, ?it/s]"
          ],
          "name": "stderr"
        },
        {
          "output_type": "stream",
          "text": [
            "\n",
            "Test set: Average loss: 0.0285, Accuracy: 9918/10000 (99.18%)\n",
            "\n",
            "EPOCH: 30\n"
          ],
          "name": "stdout"
        },
        {
          "output_type": "stream",
          "text": [
            "Loss=0.10041768103837967 Batch_id=468 Accuracy=98.74: 100%|██████████| 469/469 [00:13<00:00, 33.61it/s]\n",
            "  0%|          | 0/469 [00:00<?, ?it/s]"
          ],
          "name": "stderr"
        },
        {
          "output_type": "stream",
          "text": [
            "\n",
            "Test set: Average loss: 0.0244, Accuracy: 9924/10000 (99.24%)\n",
            "\n",
            "EPOCH: 31\n"
          ],
          "name": "stdout"
        },
        {
          "output_type": "stream",
          "text": [
            "Loss=0.14290182292461395 Batch_id=468 Accuracy=98.69: 100%|██████████| 469/469 [00:13<00:00, 33.90it/s]\n",
            "  0%|          | 0/469 [00:00<?, ?it/s]"
          ],
          "name": "stderr"
        },
        {
          "output_type": "stream",
          "text": [
            "\n",
            "Test set: Average loss: 0.0254, Accuracy: 9917/10000 (99.17%)\n",
            "\n",
            "EPOCH: 32\n"
          ],
          "name": "stdout"
        },
        {
          "output_type": "stream",
          "text": [
            "Loss=0.20595112442970276 Batch_id=468 Accuracy=98.73: 100%|██████████| 469/469 [00:13<00:00, 33.88it/s]\n",
            "  0%|          | 0/469 [00:00<?, ?it/s]"
          ],
          "name": "stderr"
        },
        {
          "output_type": "stream",
          "text": [
            "\n",
            "Test set: Average loss: 0.0277, Accuracy: 9899/10000 (98.99%)\n",
            "\n",
            "EPOCH: 33\n"
          ],
          "name": "stdout"
        },
        {
          "output_type": "stream",
          "text": [
            "Loss=0.0983658879995346 Batch_id=468 Accuracy=98.64: 100%|██████████| 469/469 [00:14<00:00, 33.22it/s]\n",
            "  0%|          | 0/469 [00:00<?, ?it/s]"
          ],
          "name": "stderr"
        },
        {
          "output_type": "stream",
          "text": [
            "\n",
            "Test set: Average loss: 0.0399, Accuracy: 9872/10000 (98.72%)\n",
            "\n",
            "EPOCH: 34\n"
          ],
          "name": "stdout"
        },
        {
          "output_type": "stream",
          "text": [
            "Loss=0.13890692591667175 Batch_id=468 Accuracy=98.67: 100%|██████████| 469/469 [00:13<00:00, 33.89it/s]\n",
            "  0%|          | 0/469 [00:00<?, ?it/s]"
          ],
          "name": "stderr"
        },
        {
          "output_type": "stream",
          "text": [
            "\n",
            "Test set: Average loss: 0.0250, Accuracy: 9922/10000 (99.22%)\n",
            "\n",
            "EPOCH: 35\n"
          ],
          "name": "stdout"
        },
        {
          "output_type": "stream",
          "text": [
            "Loss=0.11053653061389923 Batch_id=468 Accuracy=98.63: 100%|██████████| 469/469 [00:14<00:00, 33.45it/s]\n",
            "  0%|          | 0/469 [00:00<?, ?it/s]"
          ],
          "name": "stderr"
        },
        {
          "output_type": "stream",
          "text": [
            "\n",
            "Test set: Average loss: 0.0261, Accuracy: 9920/10000 (99.20%)\n",
            "\n",
            "EPOCH: 36\n"
          ],
          "name": "stdout"
        },
        {
          "output_type": "stream",
          "text": [
            "Loss=0.0809590220451355 Batch_id=468 Accuracy=98.72: 100%|██████████| 469/469 [00:13<00:00, 33.88it/s]\n",
            "  0%|          | 0/469 [00:00<?, ?it/s]"
          ],
          "name": "stderr"
        },
        {
          "output_type": "stream",
          "text": [
            "\n",
            "Test set: Average loss: 0.0261, Accuracy: 9908/10000 (99.08%)\n",
            "\n",
            "EPOCH: 37\n"
          ],
          "name": "stdout"
        },
        {
          "output_type": "stream",
          "text": [
            "Loss=0.12057545781135559 Batch_id=468 Accuracy=98.67: 100%|██████████| 469/469 [00:13<00:00, 33.71it/s]\n",
            "  0%|          | 0/469 [00:00<?, ?it/s]"
          ],
          "name": "stderr"
        },
        {
          "output_type": "stream",
          "text": [
            "\n",
            "Test set: Average loss: 0.0234, Accuracy: 9929/10000 (99.29%)\n",
            "\n",
            "EPOCH: 38\n"
          ],
          "name": "stdout"
        },
        {
          "output_type": "stream",
          "text": [
            "Loss=0.0871056541800499 Batch_id=468 Accuracy=98.70: 100%|██████████| 469/469 [00:13<00:00, 33.94it/s]\n",
            "  0%|          | 0/469 [00:00<?, ?it/s]"
          ],
          "name": "stderr"
        },
        {
          "output_type": "stream",
          "text": [
            "\n",
            "Test set: Average loss: 0.0229, Accuracy: 9924/10000 (99.24%)\n",
            "\n",
            "EPOCH: 39\n"
          ],
          "name": "stdout"
        },
        {
          "output_type": "stream",
          "text": [
            "Loss=0.09859902411699295 Batch_id=468 Accuracy=98.73: 100%|██████████| 469/469 [00:13<00:00, 33.70it/s]\n"
          ],
          "name": "stderr"
        },
        {
          "output_type": "stream",
          "text": [
            "\n",
            "Test set: Average loss: 0.0244, Accuracy: 9922/10000 (99.22%)\n",
            "\n"
          ],
          "name": "stdout"
        }
      ]
    },
    {
      "cell_type": "code",
      "metadata": {
        "id": "mC_PDZdZYVIQ",
        "colab_type": "code",
        "colab": {
          "base_uri": "https://localhost:8080/",
          "height": 811
        },
        "outputId": "33653de6-5fa4-43ff-98c2-7a267d0869f4"
      },
      "source": [
        "fig, axs = plt.subplots(5,5,figsize=(14,14))\n",
        "index=0\n",
        "for i in range(5):\n",
        "  for j in range(5):\n",
        "    data,t,p = misclassified[index]\n",
        "    axs[i,j].imshow(data.cpu().numpy().squeeze(), cmap='gray_r')\n",
        "    #axs[i,j].set_title(str(t.cpu().numpy())+\" \"+str(p.cpu().numpy()))\n",
        "    axs[i,j].annotate(\"T \"+str(t.cpu().numpy())+\" P \"+str(p.cpu().numpy()),(3,4))\n",
        "    index+=1;\n"
      ],
      "execution_count": 36,
      "outputs": [
        {
          "output_type": "display_data",
          "data": {
            "image/png": "[encoded data removed]",
            "text/plain": [
              "<Figure size 1008x1008 with 25 Axes>"
            ]
          },
          "metadata": {
            "tags": []
          }
        }
      ]
    },
    {
      "cell_type": "code",
      "metadata": {
        "id": "odozjbIvY12p",
        "colab_type": "code",
        "colab": {
          "base_uri": "https://localhost:8080/",
          "height": 1000
        },
        "outputId": "cea0efa2-db22-47ee-eff4-560b75675ed8"
      },
      "source": [
        "from torch.optim.lr_scheduler import StepLR\n",
        "\n",
        "model =  Net().to(device)\n",
        "optimizer = optim.SGD(model.parameters(), lr=0.01, momentum=0.9)\n",
        "scheduler = StepLR(optimizer, step_size=6, gamma=0.1)\n",
        "EPOCHS = 40\n",
        "for epoch in range(EPOCHS):\n",
        "    print(\"EPOCH:\", epoch)\n",
        "    train(model, device, train_loader, optimizer, epoch,\"L2\")\n",
        "    # scheduler.step()\n",
        "    test(model, device, test_loader,\"L2\")\n",
        "test_loss_l2 = copy.deepcopy(test_losses)\n",
        "test_acc_l2 = copy.deepcopy(test_acc)"
      ],
      "execution_count": 28,
      "outputs": [
        {
          "output_type": "stream",
          "text": [
            "\r  0%|          | 0/469 [00:00<?, ?it/s]"
          ],
          "name": "stderr"
        },
        {
          "output_type": "stream",
          "text": [
            "EPOCH: 0\n"
          ],
          "name": "stdout"
        },
        {
          "output_type": "stream",
          "text": [
            "Loss=0.18199960887432098 Batch_id=468 Accuracy=87.63: 100%|██████████| 469/469 [00:13<00:00, 33.57it/s]\n",
            "  0%|          | 0/469 [00:00<?, ?it/s]"
          ],
          "name": "stderr"
        },
        {
          "output_type": "stream",
          "text": [
            "\n",
            "Test set: Average loss: 0.0972, Accuracy: 9732/10000 (97.32%)\n",
            "\n",
            "EPOCH: 1\n"
          ],
          "name": "stdout"
        },
        {
          "output_type": "stream",
          "text": [
            "Loss=0.11959534138441086 Batch_id=468 Accuracy=97.12: 100%|██████████| 469/469 [00:14<00:00, 33.41it/s]\n",
            "  0%|          | 0/469 [00:00<?, ?it/s]"
          ],
          "name": "stderr"
        },
        {
          "output_type": "stream",
          "text": [
            "\n",
            "Test set: Average loss: 0.0554, Accuracy: 9829/10000 (98.29%)\n",
            "\n",
            "EPOCH: 2\n"
          ],
          "name": "stdout"
        },
        {
          "output_type": "stream",
          "text": [
            "Loss=0.12336623668670654 Batch_id=468 Accuracy=97.81: 100%|██████████| 469/469 [00:13<00:00, 34.19it/s]\n",
            "  0%|          | 0/469 [00:00<?, ?it/s]"
          ],
          "name": "stderr"
        },
        {
          "output_type": "stream",
          "text": [
            "\n",
            "Test set: Average loss: 0.0420, Accuracy: 9878/10000 (98.78%)\n",
            "\n",
            "EPOCH: 3\n"
          ],
          "name": "stdout"
        },
        {
          "output_type": "stream",
          "text": [
            "Loss=0.08733470737934113 Batch_id=468 Accuracy=98.09: 100%|██████████| 469/469 [00:14<00:00, 33.47it/s]\n",
            "  0%|          | 0/469 [00:00<?, ?it/s]"
          ],
          "name": "stderr"
        },
        {
          "output_type": "stream",
          "text": [
            "\n",
            "Test set: Average loss: 0.0361, Accuracy: 9899/10000 (98.99%)\n",
            "\n",
            "EPOCH: 4\n"
          ],
          "name": "stdout"
        },
        {
          "output_type": "stream",
          "text": [
            "Loss=0.0729699358344078 Batch_id=468 Accuracy=98.41: 100%|██████████| 469/469 [00:13<00:00, 34.20it/s]\n",
            "  0%|          | 0/469 [00:00<?, ?it/s]"
          ],
          "name": "stderr"
        },
        {
          "output_type": "stream",
          "text": [
            "\n",
            "Test set: Average loss: 0.0287, Accuracy: 9904/10000 (99.04%)\n",
            "\n",
            "EPOCH: 5\n"
          ],
          "name": "stdout"
        },
        {
          "output_type": "stream",
          "text": [
            "Loss=0.11505815386772156 Batch_id=468 Accuracy=98.52: 100%|██████████| 469/469 [00:13<00:00, 33.85it/s]\n",
            "  0%|          | 0/469 [00:00<?, ?it/s]"
          ],
          "name": "stderr"
        },
        {
          "output_type": "stream",
          "text": [
            "\n",
            "Test set: Average loss: 0.0334, Accuracy: 9890/10000 (98.90%)\n",
            "\n",
            "EPOCH: 6\n"
          ],
          "name": "stdout"
        },
        {
          "output_type": "stream",
          "text": [
            "Loss=0.06369908154010773 Batch_id=468 Accuracy=98.56: 100%|██████████| 469/469 [00:13<00:00, 34.31it/s]\n",
            "  0%|          | 0/469 [00:00<?, ?it/s]"
          ],
          "name": "stderr"
        },
        {
          "output_type": "stream",
          "text": [
            "\n",
            "Test set: Average loss: 0.0260, Accuracy: 9915/10000 (99.15%)\n",
            "\n",
            "EPOCH: 7\n"
          ],
          "name": "stdout"
        },
        {
          "output_type": "stream",
          "text": [
            "Loss=0.02867995575070381 Batch_id=468 Accuracy=98.63: 100%|██████████| 469/469 [00:13<00:00, 33.94it/s]\n",
            "  0%|          | 0/469 [00:00<?, ?it/s]"
          ],
          "name": "stderr"
        },
        {
          "output_type": "stream",
          "text": [
            "\n",
            "Test set: Average loss: 0.0265, Accuracy: 9923/10000 (99.23%)\n",
            "\n",
            "EPOCH: 8\n"
          ],
          "name": "stdout"
        },
        {
          "output_type": "stream",
          "text": [
            "Loss=0.05669332668185234 Batch_id=468 Accuracy=98.67: 100%|██████████| 469/469 [00:13<00:00, 33.79it/s]\n",
            "  0%|          | 0/469 [00:00<?, ?it/s]"
          ],
          "name": "stderr"
        },
        {
          "output_type": "stream",
          "text": [
            "\n",
            "Test set: Average loss: 0.0254, Accuracy: 9919/10000 (99.19%)\n",
            "\n",
            "EPOCH: 9\n"
          ],
          "name": "stdout"
        },
        {
          "output_type": "stream",
          "text": [
            "Loss=0.04008276388049126 Batch_id=468 Accuracy=98.78: 100%|██████████| 469/469 [00:14<00:00, 33.33it/s]\n",
            "  0%|          | 0/469 [00:00<?, ?it/s]"
          ],
          "name": "stderr"
        },
        {
          "output_type": "stream",
          "text": [
            "\n",
            "Test set: Average loss: 0.0232, Accuracy: 9925/10000 (99.25%)\n",
            "\n",
            "EPOCH: 10\n"
          ],
          "name": "stdout"
        },
        {
          "output_type": "stream",
          "text": [
            "Loss=0.11041667312383652 Batch_id=468 Accuracy=98.74: 100%|██████████| 469/469 [00:13<00:00, 33.90it/s]\n",
            "  0%|          | 0/469 [00:00<?, ?it/s]"
          ],
          "name": "stderr"
        },
        {
          "output_type": "stream",
          "text": [
            "\n",
            "Test set: Average loss: 0.0222, Accuracy: 9937/10000 (99.37%)\n",
            "\n",
            "EPOCH: 11\n"
          ],
          "name": "stdout"
        },
        {
          "output_type": "stream",
          "text": [
            "Loss=0.012972953729331493 Batch_id=468 Accuracy=98.85: 100%|██████████| 469/469 [00:13<00:00, 38.89it/s]\n",
            "  0%|          | 0/469 [00:00<?, ?it/s]"
          ],
          "name": "stderr"
        },
        {
          "output_type": "stream",
          "text": [
            "\n",
            "Test set: Average loss: 0.0235, Accuracy: 9928/10000 (99.28%)\n",
            "\n",
            "EPOCH: 12\n"
          ],
          "name": "stdout"
        },
        {
          "output_type": "stream",
          "text": [
            "Loss=0.05266829580068588 Batch_id=468 Accuracy=98.82: 100%|██████████| 469/469 [00:13<00:00, 33.58it/s]\n",
            "  0%|          | 0/469 [00:00<?, ?it/s]"
          ],
          "name": "stderr"
        },
        {
          "output_type": "stream",
          "text": [
            "\n",
            "Test set: Average loss: 0.0237, Accuracy: 9931/10000 (99.31%)\n",
            "\n",
            "EPOCH: 13\n"
          ],
          "name": "stdout"
        },
        {
          "output_type": "stream",
          "text": [
            "Loss=0.04542430117726326 Batch_id=468 Accuracy=98.90: 100%|██████████| 469/469 [00:13<00:00, 33.71it/s]\n",
            "  0%|          | 0/469 [00:00<?, ?it/s]"
          ],
          "name": "stderr"
        },
        {
          "output_type": "stream",
          "text": [
            "\n",
            "Test set: Average loss: 0.0210, Accuracy: 9938/10000 (99.38%)\n",
            "\n",
            "EPOCH: 14\n"
          ],
          "name": "stdout"
        },
        {
          "output_type": "stream",
          "text": [
            "Loss=0.03004024364054203 Batch_id=468 Accuracy=98.94: 100%|██████████| 469/469 [00:14<00:00, 33.40it/s]\n",
            "  0%|          | 0/469 [00:00<?, ?it/s]"
          ],
          "name": "stderr"
        },
        {
          "output_type": "stream",
          "text": [
            "\n",
            "Test set: Average loss: 0.0212, Accuracy: 9941/10000 (99.41%)\n",
            "\n",
            "EPOCH: 15\n"
          ],
          "name": "stdout"
        },
        {
          "output_type": "stream",
          "text": [
            "Loss=0.08074362576007843 Batch_id=468 Accuracy=98.94: 100%|██████████| 469/469 [00:13<00:00, 34.08it/s]\n",
            "  0%|          | 0/469 [00:00<?, ?it/s]"
          ],
          "name": "stderr"
        },
        {
          "output_type": "stream",
          "text": [
            "\n",
            "Test set: Average loss: 0.0249, Accuracy: 9914/10000 (99.14%)\n",
            "\n",
            "EPOCH: 16\n"
          ],
          "name": "stdout"
        },
        {
          "output_type": "stream",
          "text": [
            "Loss=0.026824796572327614 Batch_id=468 Accuracy=99.06: 100%|██████████| 469/469 [00:14<00:00, 33.35it/s]\n",
            "  0%|          | 0/469 [00:00<?, ?it/s]"
          ],
          "name": "stderr"
        },
        {
          "output_type": "stream",
          "text": [
            "\n",
            "Test set: Average loss: 0.0193, Accuracy: 9945/10000 (99.45%)\n",
            "\n",
            "EPOCH: 17\n"
          ],
          "name": "stdout"
        },
        {
          "output_type": "stream",
          "text": [
            "Loss=0.06817586719989777 Batch_id=468 Accuracy=98.93: 100%|██████████| 469/469 [00:13<00:00, 34.34it/s]\n",
            "  0%|          | 0/469 [00:00<?, ?it/s]"
          ],
          "name": "stderr"
        },
        {
          "output_type": "stream",
          "text": [
            "\n",
            "Test set: Average loss: 0.0254, Accuracy: 9919/10000 (99.19%)\n",
            "\n",
            "EPOCH: 18\n"
          ],
          "name": "stdout"
        },
        {
          "output_type": "stream",
          "text": [
            "Loss=0.010268714278936386 Batch_id=468 Accuracy=98.92: 100%|██████████| 469/469 [00:13<00:00, 34.04it/s]\n",
            "  0%|          | 0/469 [00:00<?, ?it/s]"
          ],
          "name": "stderr"
        },
        {
          "output_type": "stream",
          "text": [
            "\n",
            "Test set: Average loss: 0.0190, Accuracy: 9940/10000 (99.40%)\n",
            "\n",
            "EPOCH: 19\n"
          ],
          "name": "stdout"
        },
        {
          "output_type": "stream",
          "text": [
            "Loss=0.027502961456775665 Batch_id=468 Accuracy=99.09: 100%|██████████| 469/469 [00:13<00:00, 38.09it/s]\n",
            "  0%|          | 0/469 [00:00<?, ?it/s]"
          ],
          "name": "stderr"
        },
        {
          "output_type": "stream",
          "text": [
            "\n",
            "Test set: Average loss: 0.0217, Accuracy: 9935/10000 (99.35%)\n",
            "\n",
            "EPOCH: 20\n"
          ],
          "name": "stdout"
        },
        {
          "output_type": "stream",
          "text": [
            "Loss=0.058716800063848495 Batch_id=468 Accuracy=99.01: 100%|██████████| 469/469 [00:13<00:00, 33.70it/s]\n",
            "  0%|          | 0/469 [00:00<?, ?it/s]"
          ],
          "name": "stderr"
        },
        {
          "output_type": "stream",
          "text": [
            "\n",
            "Test set: Average loss: 0.0207, Accuracy: 9932/10000 (99.32%)\n",
            "\n",
            "EPOCH: 21\n"
          ],
          "name": "stdout"
        },
        {
          "output_type": "stream",
          "text": [
            "Loss=0.05964408814907074 Batch_id=468 Accuracy=99.03: 100%|██████████| 469/469 [00:13<00:00, 34.67it/s]\n",
            "  0%|          | 0/469 [00:00<?, ?it/s]"
          ],
          "name": "stderr"
        },
        {
          "output_type": "stream",
          "text": [
            "\n",
            "Test set: Average loss: 0.0201, Accuracy: 9936/10000 (99.36%)\n",
            "\n",
            "EPOCH: 22\n"
          ],
          "name": "stdout"
        },
        {
          "output_type": "stream",
          "text": [
            "Loss=0.026514621451497078 Batch_id=468 Accuracy=99.11: 100%|██████████| 469/469 [00:13<00:00, 34.40it/s]\n",
            "  0%|          | 0/469 [00:00<?, ?it/s]"
          ],
          "name": "stderr"
        },
        {
          "output_type": "stream",
          "text": [
            "\n",
            "Test set: Average loss: 0.0201, Accuracy: 9946/10000 (99.46%)\n",
            "\n",
            "EPOCH: 23\n"
          ],
          "name": "stdout"
        },
        {
          "output_type": "stream",
          "text": [
            "Loss=0.016887202858924866 Batch_id=468 Accuracy=99.11: 100%|██████████| 469/469 [00:13<00:00, 34.54it/s]\n",
            "  0%|          | 0/469 [00:00<?, ?it/s]"
          ],
          "name": "stderr"
        },
        {
          "output_type": "stream",
          "text": [
            "\n",
            "Test set: Average loss: 0.0212, Accuracy: 9932/10000 (99.32%)\n",
            "\n",
            "EPOCH: 24\n"
          ],
          "name": "stdout"
        },
        {
          "output_type": "stream",
          "text": [
            "Loss=0.06199435144662857 Batch_id=468 Accuracy=99.12: 100%|██████████| 469/469 [00:13<00:00, 33.70it/s]\n",
            "  0%|          | 0/469 [00:00<?, ?it/s]"
          ],
          "name": "stderr"
        },
        {
          "output_type": "stream",
          "text": [
            "\n",
            "Test set: Average loss: 0.0209, Accuracy: 9937/10000 (99.37%)\n",
            "\n",
            "EPOCH: 25\n"
          ],
          "name": "stdout"
        },
        {
          "output_type": "stream",
          "text": [
            "Loss=0.047540333122015 Batch_id=468 Accuracy=99.11: 100%|██████████| 469/469 [00:13<00:00, 34.75it/s]\n",
            "  0%|          | 0/469 [00:00<?, ?it/s]"
          ],
          "name": "stderr"
        },
        {
          "output_type": "stream",
          "text": [
            "\n",
            "Test set: Average loss: 0.0202, Accuracy: 9944/10000 (99.44%)\n",
            "\n",
            "EPOCH: 26\n"
          ],
          "name": "stdout"
        },
        {
          "output_type": "stream",
          "text": [
            "Loss=0.008382052183151245 Batch_id=468 Accuracy=99.11: 100%|██████████| 469/469 [00:13<00:00, 34.23it/s]\n",
            "  0%|          | 0/469 [00:00<?, ?it/s]"
          ],
          "name": "stderr"
        },
        {
          "output_type": "stream",
          "text": [
            "\n",
            "Test set: Average loss: 0.0193, Accuracy: 9950/10000 (99.50%)\n",
            "\n",
            "EPOCH: 27\n"
          ],
          "name": "stdout"
        },
        {
          "output_type": "stream",
          "text": [
            "Loss=0.01744566485285759 Batch_id=468 Accuracy=99.08: 100%|██████████| 469/469 [00:13<00:00, 34.23it/s]\n",
            "  0%|          | 0/469 [00:00<?, ?it/s]"
          ],
          "name": "stderr"
        },
        {
          "output_type": "stream",
          "text": [
            "\n",
            "Test set: Average loss: 0.0213, Accuracy: 9941/10000 (99.41%)\n",
            "\n",
            "EPOCH: 28\n"
          ],
          "name": "stdout"
        },
        {
          "output_type": "stream",
          "text": [
            "Loss=0.04652521759271622 Batch_id=468 Accuracy=99.09: 100%|██████████| 469/469 [00:13<00:00, 33.70it/s]\n",
            "  0%|          | 0/469 [00:00<?, ?it/s]"
          ],
          "name": "stderr"
        },
        {
          "output_type": "stream",
          "text": [
            "\n",
            "Test set: Average loss: 0.0230, Accuracy: 9932/10000 (99.32%)\n",
            "\n",
            "EPOCH: 29\n"
          ],
          "name": "stdout"
        },
        {
          "output_type": "stream",
          "text": [
            "Loss=0.019184179604053497 Batch_id=468 Accuracy=99.12: 100%|██████████| 469/469 [00:13<00:00, 33.95it/s]\n",
            "  0%|          | 0/469 [00:00<?, ?it/s]"
          ],
          "name": "stderr"
        },
        {
          "output_type": "stream",
          "text": [
            "\n",
            "Test set: Average loss: 0.0176, Accuracy: 9949/10000 (99.49%)\n",
            "\n",
            "EPOCH: 30\n"
          ],
          "name": "stdout"
        },
        {
          "output_type": "stream",
          "text": [
            "Loss=0.09323117882013321 Batch_id=468 Accuracy=99.15: 100%|██████████| 469/469 [00:13<00:00, 33.90it/s]\n",
            "  0%|          | 0/469 [00:00<?, ?it/s]"
          ],
          "name": "stderr"
        },
        {
          "output_type": "stream",
          "text": [
            "\n",
            "Test set: Average loss: 0.0209, Accuracy: 9936/10000 (99.36%)\n",
            "\n",
            "EPOCH: 31\n"
          ],
          "name": "stdout"
        },
        {
          "output_type": "stream",
          "text": [
            "Loss=0.007271813694387674 Batch_id=468 Accuracy=99.15: 100%|██████████| 469/469 [00:13<00:00, 34.15it/s]\n",
            "  0%|          | 0/469 [00:00<?, ?it/s]"
          ],
          "name": "stderr"
        },
        {
          "output_type": "stream",
          "text": [
            "\n",
            "Test set: Average loss: 0.0189, Accuracy: 9937/10000 (99.37%)\n",
            "\n",
            "EPOCH: 32\n"
          ],
          "name": "stdout"
        },
        {
          "output_type": "stream",
          "text": [
            "Loss=0.018265672028064728 Batch_id=468 Accuracy=99.14: 100%|██████████| 469/469 [00:13<00:00, 33.70it/s]\n",
            "  0%|          | 0/469 [00:00<?, ?it/s]"
          ],
          "name": "stderr"
        },
        {
          "output_type": "stream",
          "text": [
            "\n",
            "Test set: Average loss: 0.0200, Accuracy: 9941/10000 (99.41%)\n",
            "\n",
            "EPOCH: 33\n"
          ],
          "name": "stdout"
        },
        {
          "output_type": "stream",
          "text": [
            "Loss=0.012267050333321095 Batch_id=468 Accuracy=99.17: 100%|██████████| 469/469 [00:13<00:00, 34.34it/s]\n",
            "  0%|          | 0/469 [00:00<?, ?it/s]"
          ],
          "name": "stderr"
        },
        {
          "output_type": "stream",
          "text": [
            "\n",
            "Test set: Average loss: 0.0199, Accuracy: 9940/10000 (99.40%)\n",
            "\n",
            "EPOCH: 34\n"
          ],
          "name": "stdout"
        },
        {
          "output_type": "stream",
          "text": [
            "Loss=0.055869948118925095 Batch_id=468 Accuracy=99.19: 100%|██████████| 469/469 [00:13<00:00, 33.94it/s]\n",
            "  0%|          | 0/469 [00:00<?, ?it/s]"
          ],
          "name": "stderr"
        },
        {
          "output_type": "stream",
          "text": [
            "\n",
            "Test set: Average loss: 0.0197, Accuracy: 9939/10000 (99.39%)\n",
            "\n",
            "EPOCH: 35\n"
          ],
          "name": "stdout"
        },
        {
          "output_type": "stream",
          "text": [
            "Loss=0.009111279621720314 Batch_id=468 Accuracy=99.18: 100%|██████████| 469/469 [00:13<00:00, 34.32it/s]\n",
            "  0%|          | 0/469 [00:00<?, ?it/s]"
          ],
          "name": "stderr"
        },
        {
          "output_type": "stream",
          "text": [
            "\n",
            "Test set: Average loss: 0.0207, Accuracy: 9942/10000 (99.42%)\n",
            "\n",
            "EPOCH: 36\n"
          ],
          "name": "stdout"
        },
        {
          "output_type": "stream",
          "text": [
            "Loss=0.02511114999651909 Batch_id=468 Accuracy=99.19: 100%|██████████| 469/469 [00:13<00:00, 33.80it/s]\n",
            "  0%|          | 0/469 [00:00<?, ?it/s]"
          ],
          "name": "stderr"
        },
        {
          "output_type": "stream",
          "text": [
            "\n",
            "Test set: Average loss: 0.0186, Accuracy: 9940/10000 (99.40%)\n",
            "\n",
            "EPOCH: 37\n"
          ],
          "name": "stdout"
        },
        {
          "output_type": "stream",
          "text": [
            "Loss=0.04485706984996796 Batch_id=468 Accuracy=99.17: 100%|██████████| 469/469 [00:13<00:00, 34.31it/s]\n",
            "  0%|          | 0/469 [00:00<?, ?it/s]"
          ],
          "name": "stderr"
        },
        {
          "output_type": "stream",
          "text": [
            "\n",
            "Test set: Average loss: 0.0187, Accuracy: 9940/10000 (99.40%)\n",
            "\n",
            "EPOCH: 38\n"
          ],
          "name": "stdout"
        },
        {
          "output_type": "stream",
          "text": [
            "Loss=0.01841464824974537 Batch_id=468 Accuracy=99.20: 100%|██████████| 469/469 [00:13<00:00, 34.02it/s]\n",
            "  0%|          | 0/469 [00:00<?, ?it/s]"
          ],
          "name": "stderr"
        },
        {
          "output_type": "stream",
          "text": [
            "\n",
            "Test set: Average loss: 0.0188, Accuracy: 9942/10000 (99.42%)\n",
            "\n",
            "EPOCH: 39\n"
          ],
          "name": "stdout"
        },
        {
          "output_type": "stream",
          "text": [
            "Loss=0.008441701531410217 Batch_id=468 Accuracy=99.25: 100%|██████████| 469/469 [00:13<00:00, 34.09it/s]\n"
          ],
          "name": "stderr"
        },
        {
          "output_type": "stream",
          "text": [
            "\n",
            "Test set: Average loss: 0.0188, Accuracy: 9945/10000 (99.45%)\n",
            "\n"
          ],
          "name": "stdout"
        }
      ]
    },
    {
      "cell_type": "code",
      "metadata": {
        "id": "7A7sLm-jYWZe",
        "colab_type": "code",
        "colab": {
          "base_uri": "https://localhost:8080/",
          "height": 811
        },
        "outputId": "42cc095f-9d39-4fc4-dfbb-2948076425cc"
      },
      "source": [
        "import matplotlib.pyplot as plt\n",
        "fig, axs = plt.subplots(5,5,figsize=(14,14))\n",
        "index=0\n",
        "for i in range(5):\n",
        "  for j in range(5):\n",
        "    data,t,p = misclassified[index]\n",
        "    axs[i,j].imshow(data.cpu().numpy().squeeze(), cmap='gray_r')\n",
        "    #axs[i,j].set_title(str(t.cpu().numpy())+\" \"+str(p.cpu().numpy()))\n",
        "    axs[i,j].annotate(\"T \"+str(t.cpu().numpy())+\" P \"+str(p.cpu().numpy()),(3,4))\n",
        "    index+=1;\n"
      ],
      "execution_count": 30,
      "outputs": [
        {
          "output_type": "display_data",
          "data": {
            "image/png": "[encoded data removed]",
            "text/plain": [
              "<Figure size 1008x1008 with 25 Axes>"
            ]
          },
          "metadata": {
            "tags": []
          }
        }
      ]
    },
    {
      "cell_type": "code",
      "metadata": {
        "id": "GjaXEgFaYDaq",
        "colab_type": "code",
        "colab": {
          "base_uri": "https://localhost:8080/",
          "height": 1000
        },
        "outputId": "ada77d2e-b98b-4e4f-f0c2-a3b5fd5d28c1"
      },
      "source": [
        "from torch.optim.lr_scheduler import StepLR\n",
        "\n",
        "model =  Net().to(device)\n",
        "optimizer = optim.SGD(model.parameters(), lr=0.01, momentum=0.9)\n",
        "scheduler = StepLR(optimizer, step_size=6, gamma=0.1)\n",
        "EPOCHS = 40\n",
        "for epoch in range(EPOCHS):\n",
        "    print(\"EPOCH:\", epoch)\n",
        "    train(model, device, train_loader, optimizer, epoch,\"Both\")\n",
        "    # scheduler.step()\n",
        "    test(model, device, test_loader,\"Both\")\n",
        "test_loss_both = copy.deepcopy(test_losses)\n",
        "test_acc_both = copy.deepcopy(test_acc)"
      ],
      "execution_count": 32,
      "outputs": [
        {
          "output_type": "stream",
          "text": [
            "\r  0%|          | 0/469 [00:00<?, ?it/s]"
          ],
          "name": "stderr"
        },
        {
          "output_type": "stream",
          "text": [
            "EPOCH: 0\n"
          ],
          "name": "stdout"
        },
        {
          "output_type": "stream",
          "text": [
            "Loss=0.17549197375774384 Batch_id=468 Accuracy=86.78: 100%|██████████| 469/469 [00:14<00:00, 31.62it/s]\n",
            "  0%|          | 0/469 [00:00<?, ?it/s]"
          ],
          "name": "stderr"
        },
        {
          "output_type": "stream",
          "text": [
            "\n",
            "Test set: Average loss: 0.1167, Accuracy: 9670/10000 (96.70%)\n",
            "\n",
            "EPOCH: 1\n"
          ],
          "name": "stdout"
        },
        {
          "output_type": "stream",
          "text": [
            "Loss=0.19542109966278076 Batch_id=468 Accuracy=97.14: 100%|██████████| 469/469 [00:14<00:00, 31.45it/s]\n",
            "  0%|          | 0/469 [00:00<?, ?it/s]"
          ],
          "name": "stderr"
        },
        {
          "output_type": "stream",
          "text": [
            "\n",
            "Test set: Average loss: 0.0527, Accuracy: 9851/10000 (98.51%)\n",
            "\n",
            "EPOCH: 2\n"
          ],
          "name": "stdout"
        },
        {
          "output_type": "stream",
          "text": [
            "Loss=0.15012848377227783 Batch_id=468 Accuracy=97.76: 100%|██████████| 469/469 [00:14<00:00, 32.03it/s]\n",
            "  0%|          | 0/469 [00:00<?, ?it/s]"
          ],
          "name": "stderr"
        },
        {
          "output_type": "stream",
          "text": [
            "\n",
            "Test set: Average loss: 0.0487, Accuracy: 9857/10000 (98.57%)\n",
            "\n",
            "EPOCH: 3\n"
          ],
          "name": "stdout"
        },
        {
          "output_type": "stream",
          "text": [
            "Loss=0.13534660637378693 Batch_id=468 Accuracy=98.04: 100%|██████████| 469/469 [00:14<00:00, 32.13it/s]\n",
            "  0%|          | 0/469 [00:00<?, ?it/s]"
          ],
          "name": "stderr"
        },
        {
          "output_type": "stream",
          "text": [
            "\n",
            "Test set: Average loss: 0.0376, Accuracy: 9883/10000 (98.83%)\n",
            "\n",
            "EPOCH: 4\n"
          ],
          "name": "stdout"
        },
        {
          "output_type": "stream",
          "text": [
            "Loss=0.15621104836463928 Batch_id=468 Accuracy=98.25: 100%|██████████| 469/469 [00:14<00:00, 32.30it/s]\n",
            "  0%|          | 0/469 [00:00<?, ?it/s]"
          ],
          "name": "stderr"
        },
        {
          "output_type": "stream",
          "text": [
            "\n",
            "Test set: Average loss: 0.0315, Accuracy: 9907/10000 (99.07%)\n",
            "\n",
            "EPOCH: 5\n"
          ],
          "name": "stdout"
        },
        {
          "output_type": "stream",
          "text": [
            "Loss=0.14150629937648773 Batch_id=468 Accuracy=98.36: 100%|██████████| 469/469 [00:14<00:00, 32.28it/s]\n",
            "  0%|          | 0/469 [00:00<?, ?it/s]"
          ],
          "name": "stderr"
        },
        {
          "output_type": "stream",
          "text": [
            "\n",
            "Test set: Average loss: 0.0376, Accuracy: 9888/10000 (98.88%)\n",
            "\n",
            "EPOCH: 6\n"
          ],
          "name": "stdout"
        },
        {
          "output_type": "stream",
          "text": [
            "Loss=0.15595073997974396 Batch_id=468 Accuracy=98.32: 100%|██████████| 469/469 [00:14<00:00, 31.75it/s]\n",
            "  0%|          | 0/469 [00:00<?, ?it/s]"
          ],
          "name": "stderr"
        },
        {
          "output_type": "stream",
          "text": [
            "\n",
            "Test set: Average loss: 0.0329, Accuracy: 9902/10000 (99.02%)\n",
            "\n",
            "EPOCH: 7\n"
          ],
          "name": "stdout"
        },
        {
          "output_type": "stream",
          "text": [
            "Loss=0.10714356601238251 Batch_id=468 Accuracy=98.31: 100%|██████████| 469/469 [00:14<00:00, 32.09it/s]\n",
            "  0%|          | 0/469 [00:00<?, ?it/s]"
          ],
          "name": "stderr"
        },
        {
          "output_type": "stream",
          "text": [
            "\n",
            "Test set: Average loss: 0.0478, Accuracy: 9853/10000 (98.53%)\n",
            "\n",
            "EPOCH: 8\n"
          ],
          "name": "stdout"
        },
        {
          "output_type": "stream",
          "text": [
            "Loss=0.14223946630954742 Batch_id=468 Accuracy=98.48: 100%|██████████| 469/469 [00:14<00:00, 31.97it/s]\n",
            "  0%|          | 0/469 [00:00<?, ?it/s]"
          ],
          "name": "stderr"
        },
        {
          "output_type": "stream",
          "text": [
            "\n",
            "Test set: Average loss: 0.0255, Accuracy: 9916/10000 (99.16%)\n",
            "\n",
            "EPOCH: 9\n"
          ],
          "name": "stdout"
        },
        {
          "output_type": "stream",
          "text": [
            "Loss=0.12809577584266663 Batch_id=468 Accuracy=98.46: 100%|██████████| 469/469 [00:14<00:00, 32.40it/s]\n",
            "  0%|          | 0/469 [00:00<?, ?it/s]"
          ],
          "name": "stderr"
        },
        {
          "output_type": "stream",
          "text": [
            "\n",
            "Test set: Average loss: 0.0306, Accuracy: 9897/10000 (98.97%)\n",
            "\n",
            "EPOCH: 10\n"
          ],
          "name": "stdout"
        },
        {
          "output_type": "stream",
          "text": [
            "Loss=0.12560829520225525 Batch_id=468 Accuracy=98.50: 100%|██████████| 469/469 [00:14<00:00, 32.01it/s]\n",
            "  0%|          | 0/469 [00:00<?, ?it/s]"
          ],
          "name": "stderr"
        },
        {
          "output_type": "stream",
          "text": [
            "\n",
            "Test set: Average loss: 0.0274, Accuracy: 9916/10000 (99.16%)\n",
            "\n",
            "EPOCH: 11\n"
          ],
          "name": "stdout"
        },
        {
          "output_type": "stream",
          "text": [
            "Loss=0.11683525145053864 Batch_id=468 Accuracy=98.58: 100%|██████████| 469/469 [00:14<00:00, 31.85it/s]\n",
            "  0%|          | 0/469 [00:00<?, ?it/s]"
          ],
          "name": "stderr"
        },
        {
          "output_type": "stream",
          "text": [
            "\n",
            "Test set: Average loss: 0.0276, Accuracy: 9909/10000 (99.09%)\n",
            "\n",
            "EPOCH: 12\n"
          ],
          "name": "stdout"
        },
        {
          "output_type": "stream",
          "text": [
            "Loss=0.20153766870498657 Batch_id=468 Accuracy=98.49: 100%|██████████| 469/469 [00:14<00:00, 32.72it/s]\n",
            "  0%|          | 0/469 [00:00<?, ?it/s]"
          ],
          "name": "stderr"
        },
        {
          "output_type": "stream",
          "text": [
            "\n",
            "Test set: Average loss: 0.0430, Accuracy: 9866/10000 (98.66%)\n",
            "\n",
            "EPOCH: 13\n"
          ],
          "name": "stdout"
        },
        {
          "output_type": "stream",
          "text": [
            "Loss=0.16949225962162018 Batch_id=468 Accuracy=98.50: 100%|██████████| 469/469 [00:14<00:00, 32.36it/s]\n",
            "  0%|          | 0/469 [00:00<?, ?it/s]"
          ],
          "name": "stderr"
        },
        {
          "output_type": "stream",
          "text": [
            "\n",
            "Test set: Average loss: 0.0383, Accuracy: 9884/10000 (98.84%)\n",
            "\n",
            "EPOCH: 14\n"
          ],
          "name": "stdout"
        },
        {
          "output_type": "stream",
          "text": [
            "Loss=0.10570759326219559 Batch_id=468 Accuracy=98.56: 100%|██████████| 469/469 [00:14<00:00, 32.44it/s]\n",
            "  0%|          | 0/469 [00:00<?, ?it/s]"
          ],
          "name": "stderr"
        },
        {
          "output_type": "stream",
          "text": [
            "\n",
            "Test set: Average loss: 0.0260, Accuracy: 9924/10000 (99.24%)\n",
            "\n",
            "EPOCH: 15\n"
          ],
          "name": "stdout"
        },
        {
          "output_type": "stream",
          "text": [
            "Loss=0.12905128300189972 Batch_id=468 Accuracy=98.63: 100%|██████████| 469/469 [00:14<00:00, 31.71it/s]\n",
            "  0%|          | 0/469 [00:00<?, ?it/s]"
          ],
          "name": "stderr"
        },
        {
          "output_type": "stream",
          "text": [
            "\n",
            "Test set: Average loss: 0.0375, Accuracy: 9887/10000 (98.87%)\n",
            "\n",
            "EPOCH: 16\n"
          ],
          "name": "stdout"
        },
        {
          "output_type": "stream",
          "text": [
            "Loss=0.10606275498867035 Batch_id=468 Accuracy=98.52: 100%|██████████| 469/469 [00:14<00:00, 32.04it/s]\n",
            "  0%|          | 0/469 [00:00<?, ?it/s]"
          ],
          "name": "stderr"
        },
        {
          "output_type": "stream",
          "text": [
            "\n",
            "Test set: Average loss: 0.0270, Accuracy: 9907/10000 (99.07%)\n",
            "\n",
            "EPOCH: 17\n"
          ],
          "name": "stdout"
        },
        {
          "output_type": "stream",
          "text": [
            "Loss=0.1950330287218094 Batch_id=468 Accuracy=98.62: 100%|██████████| 469/469 [00:14<00:00, 32.64it/s]\n",
            "  0%|          | 0/469 [00:00<?, ?it/s]"
          ],
          "name": "stderr"
        },
        {
          "output_type": "stream",
          "text": [
            "\n",
            "Test set: Average loss: 0.0285, Accuracy: 9908/10000 (99.08%)\n",
            "\n",
            "EPOCH: 18\n"
          ],
          "name": "stdout"
        },
        {
          "output_type": "stream",
          "text": [
            "Loss=0.14884622395038605 Batch_id=468 Accuracy=98.60: 100%|██████████| 469/469 [00:14<00:00, 32.06it/s]\n",
            "  0%|          | 0/469 [00:00<?, ?it/s]"
          ],
          "name": "stderr"
        },
        {
          "output_type": "stream",
          "text": [
            "\n",
            "Test set: Average loss: 0.0312, Accuracy: 9902/10000 (99.02%)\n",
            "\n",
            "EPOCH: 19\n"
          ],
          "name": "stdout"
        },
        {
          "output_type": "stream",
          "text": [
            "Loss=0.09234555810689926 Batch_id=468 Accuracy=98.60: 100%|██████████| 469/469 [00:14<00:00, 32.66it/s]\n",
            "  0%|          | 0/469 [00:00<?, ?it/s]"
          ],
          "name": "stderr"
        },
        {
          "output_type": "stream",
          "text": [
            "\n",
            "Test set: Average loss: 0.0321, Accuracy: 9904/10000 (99.04%)\n",
            "\n",
            "EPOCH: 20\n"
          ],
          "name": "stdout"
        },
        {
          "output_type": "stream",
          "text": [
            "Loss=0.08979514241218567 Batch_id=468 Accuracy=98.60: 100%|██████████| 469/469 [00:14<00:00, 32.28it/s]\n",
            "  0%|          | 0/469 [00:00<?, ?it/s]"
          ],
          "name": "stderr"
        },
        {
          "output_type": "stream",
          "text": [
            "\n",
            "Test set: Average loss: 0.0272, Accuracy: 9913/10000 (99.13%)\n",
            "\n",
            "EPOCH: 21\n"
          ],
          "name": "stdout"
        },
        {
          "output_type": "stream",
          "text": [
            "Loss=0.1323201060295105 Batch_id=468 Accuracy=98.60: 100%|██████████| 469/469 [00:14<00:00, 32.25it/s]\n",
            "  0%|          | 0/469 [00:00<?, ?it/s]"
          ],
          "name": "stderr"
        },
        {
          "output_type": "stream",
          "text": [
            "\n",
            "Test set: Average loss: 0.0268, Accuracy: 9910/10000 (99.10%)\n",
            "\n",
            "EPOCH: 22\n"
          ],
          "name": "stdout"
        },
        {
          "output_type": "stream",
          "text": [
            "Loss=0.1001116931438446 Batch_id=468 Accuracy=98.54: 100%|██████████| 469/469 [00:14<00:00, 32.20it/s]\n",
            "  0%|          | 0/469 [00:00<?, ?it/s]"
          ],
          "name": "stderr"
        },
        {
          "output_type": "stream",
          "text": [
            "\n",
            "Test set: Average loss: 0.0285, Accuracy: 9910/10000 (99.10%)\n",
            "\n",
            "EPOCH: 23\n"
          ],
          "name": "stdout"
        },
        {
          "output_type": "stream",
          "text": [
            "Loss=0.09742941707372665 Batch_id=468 Accuracy=98.67: 100%|██████████| 469/469 [00:14<00:00, 32.67it/s]\n",
            "  0%|          | 0/469 [00:00<?, ?it/s]"
          ],
          "name": "stderr"
        },
        {
          "output_type": "stream",
          "text": [
            "\n",
            "Test set: Average loss: 0.0291, Accuracy: 9911/10000 (99.11%)\n",
            "\n",
            "EPOCH: 24\n"
          ],
          "name": "stdout"
        },
        {
          "output_type": "stream",
          "text": [
            "Loss=0.14702939987182617 Batch_id=468 Accuracy=98.64: 100%|██████████| 469/469 [00:14<00:00, 32.59it/s]\n",
            "  0%|          | 0/469 [00:00<?, ?it/s]"
          ],
          "name": "stderr"
        },
        {
          "output_type": "stream",
          "text": [
            "\n",
            "Test set: Average loss: 0.0309, Accuracy: 9907/10000 (99.07%)\n",
            "\n",
            "EPOCH: 25\n"
          ],
          "name": "stdout"
        },
        {
          "output_type": "stream",
          "text": [
            "Loss=0.14324605464935303 Batch_id=468 Accuracy=98.66: 100%|██████████| 469/469 [00:14<00:00, 32.05it/s]\n",
            "  0%|          | 0/469 [00:00<?, ?it/s]"
          ],
          "name": "stderr"
        },
        {
          "output_type": "stream",
          "text": [
            "\n",
            "Test set: Average loss: 0.0246, Accuracy: 9924/10000 (99.24%)\n",
            "\n",
            "EPOCH: 26\n"
          ],
          "name": "stdout"
        },
        {
          "output_type": "stream",
          "text": [
            "Loss=0.17784756422042847 Batch_id=468 Accuracy=98.68: 100%|██████████| 469/469 [00:14<00:00, 31.79it/s]\n",
            "  0%|          | 0/469 [00:00<?, ?it/s]"
          ],
          "name": "stderr"
        },
        {
          "output_type": "stream",
          "text": [
            "\n",
            "Test set: Average loss: 0.0253, Accuracy: 9928/10000 (99.28%)\n",
            "\n",
            "EPOCH: 27\n"
          ],
          "name": "stdout"
        },
        {
          "output_type": "stream",
          "text": [
            "Loss=0.13337282836437225 Batch_id=468 Accuracy=98.67: 100%|██████████| 469/469 [00:14<00:00, 32.64it/s]\n",
            "  0%|          | 0/469 [00:00<?, ?it/s]"
          ],
          "name": "stderr"
        },
        {
          "output_type": "stream",
          "text": [
            "\n",
            "Test set: Average loss: 0.0274, Accuracy: 9917/10000 (99.17%)\n",
            "\n",
            "EPOCH: 28\n"
          ],
          "name": "stdout"
        },
        {
          "output_type": "stream",
          "text": [
            "Loss=0.10736998915672302 Batch_id=468 Accuracy=98.67: 100%|██████████| 469/469 [00:14<00:00, 32.30it/s]\n",
            "  0%|          | 0/469 [00:00<?, ?it/s]"
          ],
          "name": "stderr"
        },
        {
          "output_type": "stream",
          "text": [
            "\n",
            "Test set: Average loss: 0.0255, Accuracy: 9910/10000 (99.10%)\n",
            "\n",
            "EPOCH: 29\n"
          ],
          "name": "stdout"
        },
        {
          "output_type": "stream",
          "text": [
            "Loss=0.1573510318994522 Batch_id=468 Accuracy=98.69: 100%|██████████| 469/469 [00:14<00:00, 31.83it/s]\n",
            "  0%|          | 0/469 [00:00<?, ?it/s]"
          ],
          "name": "stderr"
        },
        {
          "output_type": "stream",
          "text": [
            "\n",
            "Test set: Average loss: 0.0298, Accuracy: 9904/10000 (99.04%)\n",
            "\n",
            "EPOCH: 30\n"
          ],
          "name": "stdout"
        },
        {
          "output_type": "stream",
          "text": [
            "Loss=0.1004628837108612 Batch_id=468 Accuracy=98.62: 100%|██████████| 469/469 [00:14<00:00, 32.41it/s]\n",
            "  0%|          | 0/469 [00:00<?, ?it/s]"
          ],
          "name": "stderr"
        },
        {
          "output_type": "stream",
          "text": [
            "\n",
            "Test set: Average loss: 0.0339, Accuracy: 9889/10000 (98.89%)\n",
            "\n",
            "EPOCH: 31\n"
          ],
          "name": "stdout"
        },
        {
          "output_type": "stream",
          "text": [
            "Loss=0.09278962016105652 Batch_id=468 Accuracy=98.68: 100%|██████████| 469/469 [00:14<00:00, 32.30it/s]\n",
            "  0%|          | 0/469 [00:00<?, ?it/s]"
          ],
          "name": "stderr"
        },
        {
          "output_type": "stream",
          "text": [
            "\n",
            "Test set: Average loss: 0.0301, Accuracy: 9911/10000 (99.11%)\n",
            "\n",
            "EPOCH: 32\n"
          ],
          "name": "stdout"
        },
        {
          "output_type": "stream",
          "text": [
            "Loss=0.11958668380975723 Batch_id=468 Accuracy=98.62: 100%|██████████| 469/469 [00:14<00:00, 32.35it/s]\n",
            "  0%|          | 0/469 [00:00<?, ?it/s]"
          ],
          "name": "stderr"
        },
        {
          "output_type": "stream",
          "text": [
            "\n",
            "Test set: Average loss: 0.0282, Accuracy: 9906/10000 (99.06%)\n",
            "\n",
            "EPOCH: 33\n"
          ],
          "name": "stdout"
        },
        {
          "output_type": "stream",
          "text": [
            "Loss=0.13551978766918182 Batch_id=468 Accuracy=98.77: 100%|██████████| 469/469 [00:14<00:00, 31.96it/s]\n",
            "  0%|          | 0/469 [00:00<?, ?it/s]"
          ],
          "name": "stderr"
        },
        {
          "output_type": "stream",
          "text": [
            "\n",
            "Test set: Average loss: 0.0282, Accuracy: 9907/10000 (99.07%)\n",
            "\n",
            "EPOCH: 34\n"
          ],
          "name": "stdout"
        },
        {
          "output_type": "stream",
          "text": [
            "Loss=0.12262611091136932 Batch_id=468 Accuracy=98.70: 100%|██████████| 469/469 [00:14<00:00, 32.27it/s]\n",
            "  0%|          | 0/469 [00:00<?, ?it/s]"
          ],
          "name": "stderr"
        },
        {
          "output_type": "stream",
          "text": [
            "\n",
            "Test set: Average loss: 0.0266, Accuracy: 9922/10000 (99.22%)\n",
            "\n",
            "EPOCH: 35\n"
          ],
          "name": "stdout"
        },
        {
          "output_type": "stream",
          "text": [
            "Loss=0.10292030870914459 Batch_id=468 Accuracy=98.63: 100%|██████████| 469/469 [00:14<00:00, 32.15it/s]\n",
            "  0%|          | 0/469 [00:00<?, ?it/s]"
          ],
          "name": "stderr"
        },
        {
          "output_type": "stream",
          "text": [
            "\n",
            "Test set: Average loss: 0.0256, Accuracy: 9917/10000 (99.17%)\n",
            "\n",
            "EPOCH: 36\n"
          ],
          "name": "stdout"
        },
        {
          "output_type": "stream",
          "text": [
            "Loss=0.09711716324090958 Batch_id=468 Accuracy=98.72: 100%|██████████| 469/469 [00:14<00:00, 32.29it/s]\n",
            "  0%|          | 0/469 [00:00<?, ?it/s]"
          ],
          "name": "stderr"
        },
        {
          "output_type": "stream",
          "text": [
            "\n",
            "Test set: Average loss: 0.0346, Accuracy: 9888/10000 (98.88%)\n",
            "\n",
            "EPOCH: 37\n"
          ],
          "name": "stdout"
        },
        {
          "output_type": "stream",
          "text": [
            "Loss=0.1158592700958252 Batch_id=468 Accuracy=98.72: 100%|██████████| 469/469 [00:14<00:00, 32.27it/s]\n",
            "  0%|          | 0/469 [00:00<?, ?it/s]"
          ],
          "name": "stderr"
        },
        {
          "output_type": "stream",
          "text": [
            "\n",
            "Test set: Average loss: 0.0255, Accuracy: 9926/10000 (99.26%)\n",
            "\n",
            "EPOCH: 38\n"
          ],
          "name": "stdout"
        },
        {
          "output_type": "stream",
          "text": [
            "Loss=0.10741964727640152 Batch_id=468 Accuracy=98.69: 100%|██████████| 469/469 [00:14<00:00, 32.72it/s]\n",
            "  0%|          | 0/469 [00:00<?, ?it/s]"
          ],
          "name": "stderr"
        },
        {
          "output_type": "stream",
          "text": [
            "\n",
            "Test set: Average loss: 0.0260, Accuracy: 9920/10000 (99.20%)\n",
            "\n",
            "EPOCH: 39\n"
          ],
          "name": "stdout"
        },
        {
          "output_type": "stream",
          "text": [
            "Loss=0.11862774193286896 Batch_id=468 Accuracy=98.68: 100%|██████████| 469/469 [00:14<00:00, 32.21it/s]\n"
          ],
          "name": "stderr"
        },
        {
          "output_type": "stream",
          "text": [
            "\n",
            "Test set: Average loss: 0.0337, Accuracy: 9895/10000 (98.95%)\n",
            "\n"
          ],
          "name": "stdout"
        }
      ]
    },
    {
      "cell_type": "code",
      "metadata": {
        "id": "Ou7aDW2Rrbij",
        "colab_type": "code",
        "colab": {
          "base_uri": "https://localhost:8080/",
          "height": 355
        },
        "outputId": "599c7e9a-f2fb-406b-fff9-da5600eb4fe1"
      },
      "source": [
        "import matplotlib.pyplot as plt\n",
        "# test_loss_l1=[]\n",
        "# test_acc_l1=[]\n",
        "# test_loss_l2=[]\n",
        "# test_acc_l2=[]\n",
        "# test_loss_both=[]\n",
        "# test_acc_both=[]\n",
        "# test_loss_none=[]\n",
        "# test_acc_none=[]\n",
        "fig, axs = plt.subplots(1,2,figsize=(15,5))\n",
        "axs[0].plot(test_loss_none)\n",
        "axs[0].plot(test_loss_l1)\n",
        "axs[0].plot(test_loss_l2)\n",
        "axs[0].plot(test_loss_both)\n",
        "axs[0].legend(['Without L1/L2', 'L1', 'L2', 'Both'], loc='upper left')\n",
        "axs[0].set_title(\"Test Loss\")\n",
        "axs[1].plot(test_acc_none)\n",
        "axs[1].plot(test_acc_l1)\n",
        "axs[1].plot(test_acc_l2)\n",
        "axs[1].plot(test_acc_both)\n",
        "axs[0].legend(['Without L1/L2', 'L1', 'L2', 'Both'], loc='upper left')\n",
        "axs[1].set_title(\"Test Accuracy\")"
      ],
      "execution_count": 33,
      "outputs": [
        {
          "output_type": "execute_result",
          "data": {
            "text/plain": [
              "Text(0.5, 1.0, 'Test Accuracy')"
            ]
          },
          "metadata": {
            "tags": []
          },
          "execution_count": 33
        },
        {
          "output_type": "display_data",
          "data": {
            "image/png": "[encoded data removed]",
            "text/plain": [
              "<Figure size 1080x360 with 2 Axes>"
            ]
          },
          "metadata": {
            "tags": []
          }
        }
      ]
    },
    {
      "cell_type": "code",
      "metadata": {
        "id": "Hp0EU2Y0uMXA",
        "colab_type": "code",
        "colab": {}
      },
      "source": [
        ""
      ],
      "execution_count": 0,
      "outputs": []
    }
  ]
}
