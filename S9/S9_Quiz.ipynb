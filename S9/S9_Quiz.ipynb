{
  "nbformat": 4,
  "nbformat_minor": 0,
  "metadata": {
    "kernelspec": {
      "name": "python3",
      "display_name": "Python 3"
    },
    "language_info": {
      "codemirror_mode": {
        "name": "ipython",
        "version": 3
      },
      "file_extension": ".py",
      "mimetype": "text/x-python",
      "name": "python",
      "nbconvert_exporter": "python",
      "pygments_lexer": "ipython3",
      "version": "3.6.6"
    },
    "colab": {
      "name": "Copy of EVA S8.ipynb",
      "provenance": [],
      "collapsed_sections": [],
      "include_colab_link": true
    },
    "accelerator": "GPU"
  },
  "cells": [
    {
      "cell_type": "markdown",
      "metadata": {
        "id": "view-in-github",
        "colab_type": "text"
      },
      "source": [
        "<a href=\"https://colab.research.google.com/github/subbu521/EVA4/blob/master/S9/S9_Quiz.ipynb\" target=\"_parent\"><img src=\"https://colab.research.google.com/assets/colab-badge.svg\" alt=\"Open In Colab\"/></a>"
      ]
    },
    {
      "cell_type": "code",
      "metadata": {
        "id": "c1zDtG2awG5D",
        "colab_type": "code",
        "outputId": "94ac53bc-57a1-4b65-d554-788c8368196f",
        "colab": {
          "base_uri": "https://localhost:8080/",
          "height": 34
        }
      },
      "source": [
        "import datetime\n",
        "\n",
        "x = datetime.datetime.now()\n",
        "\n",
        "print(x)\n"
      ],
      "execution_count": 0,
      "outputs": [
        {
          "output_type": "stream",
          "text": [
            "2020-03-17 10:37:25.233879\n"
          ],
          "name": "stdout"
        }
      ]
    },
    {
      "cell_type": "code",
      "metadata": {
        "id": "-yVpodAMpoCi",
        "colab_type": "code",
        "colab": {}
      },
      "source": [
        "import torch\n",
        "import torchvision\n",
        "import torchvision.transforms as transforms\n",
        "\n",
        "\n",
        "import torch.nn as nn\n",
        "import torch.nn.functional as F\n",
        "import torch.optim as optim\n"
      ],
      "execution_count": 0,
      "outputs": []
    },
    {
      "cell_type": "code",
      "metadata": {
        "id": "e4ZTlK2_ywqA",
        "colab_type": "code",
        "outputId": "e2978f0f-e136-41dc-9a49-e041938e2f6c",
        "colab": {
          "base_uri": "https://localhost:8080/",
          "height": 34
        }
      },
      "source": [
        "from google.colab import drive\n",
        "drive.mount('/content/drive')"
      ],
      "execution_count": 0,
      "outputs": [
        {
          "output_type": "stream",
          "text": [
            "Drive already mounted at /content/drive; to attempt to forcibly remount, call drive.mount(\"/content/drive\", force_remount=True).\n"
          ],
          "name": "stdout"
        }
      ]
    },
    {
      "cell_type": "code",
      "metadata": {
        "id": "EzWBDWZl1odD",
        "colab_type": "code",
        "colab": {}
      },
      "source": [
        "import sys\n",
        "sys.path.append('/content/drive/My Drive/EVA/S7')\n"
      ],
      "execution_count": 0,
      "outputs": []
    },
    {
      "cell_type": "markdown",
      "metadata": {
        "id": "5kjt4e2TpoCk",
        "colab_type": "text"
      },
      "source": [
        "The output of torchvision datasets are PILImage images of range [0, 1].\n",
        "We transform them to Tensors of normalized range [-1, 1].\n",
        "\n"
      ]
    },
    {
      "cell_type": "code",
      "metadata": {
        "id": "aVYcH5G-PKRq",
        "colab_type": "code",
        "outputId": "2e7b8a36-d28f-4bb5-f475-8d820b2b4727",
        "colab": {
          "base_uri": "https://localhost:8080/",
          "height": 51
        }
      },
      "source": [
        "import evadataloader\n",
        "dataloader = evadataloader.DataLoader()\n",
        "\n",
        "transform = transforms.Compose(\n",
        "    [transforms.ToTensor(),\n",
        "     transforms.Normalize((0.5, 0.5, 0.5), (0.5, 0.5, 0.5))])\n",
        "\n",
        "trainset = torchvision.datasets.CIFAR10(root='./data', train=True,\n",
        "                                        download=True, transform=transform)\n",
        "trainloader = dataloader.load(trainset)\n",
        "\n",
        "testset = torchvision.datasets.CIFAR10(root='./data', train=False,\n",
        "                                       download=True, transform=transform)\n",
        "testloader = dataloader.load(testset)\n",
        "\n",
        "classes = ('plane', 'car', 'bird', 'cat',\n",
        "           'deer', 'dog', 'frog', 'horse', 'ship', 'truck')\n",
        "\n",
        "\n"
      ],
      "execution_count": 0,
      "outputs": [
        {
          "output_type": "stream",
          "text": [
            "Files already downloaded and verified\n",
            "Files already downloaded and verified\n"
          ],
          "name": "stdout"
        }
      ]
    },
    {
      "cell_type": "markdown",
      "metadata": {
        "id": "_cj433rtpoCn",
        "colab_type": "text"
      },
      "source": [
        "Let us show some of the training images, for fun.\n",
        "\n"
      ]
    },
    {
      "cell_type": "code",
      "metadata": {
        "id": "daA7bADhpoCo",
        "colab_type": "code",
        "outputId": "2e6f7819-09ab-4a54-9f81-5d4438e7fbcc",
        "colab": {
          "base_uri": "https://localhost:8080/",
          "height": 286
        }
      },
      "source": [
        "%matplotlib inline\n",
        "import matplotlib.pyplot as plt\n",
        "import numpy as np\n",
        "\n",
        "# functions to show an image\n",
        "\n",
        "\n",
        "def imshow(img):\n",
        "    img = img / 2 + 0.5     # unnormalize\n",
        "    npimg = img.numpy()\n",
        "    plt.imshow(np.transpose(npimg, (1, 2, 0)))\n",
        "\n",
        "\n",
        "# get some random training images\n",
        "dataiter = iter(trainloader)\n",
        "images, labels = dataiter.next()\n",
        "\n",
        "# show images\n",
        "imshow(torchvision.utils.make_grid(images))\n",
        "# print labels\n",
        "print(' '.join('%5s' % classes[labels[j]] for j in range(4)))"
      ],
      "execution_count": 0,
      "outputs": [
        {
          "output_type": "stream",
          "text": [
            "  cat truck horse plane\n"
          ],
          "name": "stdout"
        },
        {
          "output_type": "display_data",
          "data": {
            "image/png": "[encoded data removed]",
            "text/plain": [
              "<Figure size 432x288 with 1 Axes>"
            ]
          },
          "metadata": {
            "tags": []
          }
        }
      ]
    },
    {
      "cell_type": "code",
      "metadata": {
        "id": "pb_T9aqQCVRT",
        "colab_type": "code",
        "colab": {}
      },
      "source": [
        "#import evamodel\n",
        "\n",
        "#net = evamodel.Net()\n"
      ],
      "execution_count": 0,
      "outputs": []
    },
    {
      "cell_type": "code",
      "metadata": {
        "id": "6vHA7ECL30Bk",
        "colab_type": "code",
        "colab": {}
      },
      "source": [
        "from tqdm import tqdm_notebook, tnrange\n",
        "import torch.nn.functional as F\n",
        "import torch\n",
        "import torch.nn as nn\n",
        "import torch.nn.functional as F\n",
        "\n",
        "dropout_value = 0.07\n",
        "class Net(nn.Module):\n",
        "    def __init__(self):\n",
        "        super(Net, self).__init__()\n",
        "\n",
        "        self.convblock0 = nn.Sequential(\n",
        "          nn.Conv2d(3, 32, 3, padding=1),\n",
        "          nn.ReLU(),\n",
        "          nn.BatchNorm2d(32),\n",
        "          nn.Dropout(dropout_value)\n",
        "        )\n",
        "\n",
        "        self.convblock1 = nn.Sequential(\n",
        "          nn.Conv2d(32, 32, 3,padding=1),\n",
        "          nn.ReLU(),\n",
        "          nn.BatchNorm2d(32),\n",
        "          nn.Dropout(dropout_value)\n",
        "        )\n",
        "\n",
        "        self.convblock2 = nn.Sequential(\n",
        "          nn.Conv2d(32, 32, 3,padding=1),\n",
        "          nn.ReLU(),\n",
        "          nn.BatchNorm2d(32),\n",
        "          nn.Dropout(dropout_value)\n",
        "        )\n",
        "\n",
        "        self.pool1 = nn.MaxPool2d(2, 2)\n",
        "\n",
        "        self.convblock3_0 = nn.Sequential(\n",
        "          nn.Conv2d(32, 64, 1),\n",
        "          nn.ReLU(),\n",
        "          nn.BatchNorm2d(64),\n",
        "          nn.Dropout(dropout_value)\n",
        "        )\n",
        "        self.convblock3 = nn.Sequential(\n",
        "\t      nn.Conv2d(32, 64, 3,padding=1),\n",
        "        nn.ReLU(),\n",
        "        nn.BatchNorm2d(64),\n",
        "        nn.Dropout(dropout_value)\n",
        "        )\n",
        "\n",
        "        self.convblock4 = nn.Sequential(\n",
        "        nn.Conv2d(64, 64, 3,padding=1),\n",
        "        nn.ReLU(),\n",
        "        nn.BatchNorm2d(64),\n",
        "        nn.Dropout(dropout_value)\n",
        "        )\n",
        "        \n",
        "        self.convblock5 = nn.Sequential(\n",
        "        nn.Conv2d(64, 64, 3,padding=1),\n",
        "        nn.ReLU(),\n",
        "        nn.BatchNorm2d(64),\n",
        "        nn.Dropout(dropout_value)\n",
        "        )\n",
        "\n",
        "        self.pool2 = nn.MaxPool2d(2, 2)\n",
        "\n",
        "\n",
        "        self.convblock6_0 = nn.Sequential(\n",
        "        nn.Conv2d(64, 128, 1),\n",
        "        nn.ReLU(),\n",
        "        nn.BatchNorm2d(128),\n",
        "        nn.Dropout(dropout_value)\n",
        "        )\n",
        "        self.convblock6 = nn.Sequential(\n",
        "        nn.Conv2d(64, 128, 3,padding=1),\n",
        "        nn.ReLU(),\n",
        "        nn.BatchNorm2d(128),\n",
        "        nn.Dropout(dropout_value)\n",
        "        )\n",
        "\n",
        "        self.convblock7 = nn.Sequential(\n",
        "        nn.Conv2d(128, 128, 3,padding=1),\n",
        "        nn.ReLU(),\n",
        "        nn.BatchNorm2d(128),\n",
        "        nn.Dropout(dropout_value)      \n",
        "        )\n",
        "\n",
        "        self.convblock8 = nn.Sequential(\n",
        "        nn.Conv2d(128, 128, 3,padding=1),\n",
        "        nn.ReLU(),\n",
        "        nn.BatchNorm2d(128),\n",
        "        nn.Dropout(dropout_value)      \n",
        "        )\n",
        "\n",
        "        self.pool3 = nn.MaxPool2d(2, 2)\n",
        "\n",
        "       \n",
        "        self.gap = nn.Sequential(\n",
        "            nn.AvgPool2d(kernel_size=(4,4))\n",
        "        ) # output_size = 1\n",
        "\n",
        "        self.convblock10 = nn.Sequential(\n",
        "            nn.Conv2d(in_channels=128, out_channels=10, kernel_size=(1, 1), padding=0, bias=False)\n",
        "        ) \n",
        "\n",
        "\n",
        "\n",
        "\n",
        "    def forward(self, x):\n",
        "        x1 = self.convblock0(x) # input conv\n",
        "        x2 = self.convblock1(x1)\n",
        "        x2 = x1+x2\n",
        "        x3 = self.convblock2(x2)\n",
        "        x3 = x2+x3\n",
        "        x4 = self.pool1(x3)\n",
        "        x5 = self.convblock3(x4)\n",
        "        x4_0 = self.convblock3_0(x4)\n",
        "        x5 = x4_0+x5\n",
        "        x6 = self.convblock4(x5)\n",
        "        x6 = x5+x6\n",
        "        x7 = self.convblock5(x6)\n",
        "        x8 = self.pool2(x7)\n",
        "        x8_0 = self.convblock6_0(x8)\n",
        "        x9 = self.convblock6(x8)\n",
        "        x9 = x8_0+x9\n",
        "        x10 = self.convblock7(x9)\n",
        "        x10 = x9+x10\n",
        "        x11 = self.convblock8(x10)\n",
        "        x12 = F.adaptive_avg_pool2d(x11, 1)        \n",
        "        y = self.convblock10(x12)\n",
        "        y = y.view(-1, 10)\n",
        "        return F.log_softmax(y, dim=-1)\n",
        "net = Net()"
      ],
      "execution_count": 0,
      "outputs": []
    },
    {
      "cell_type": "code",
      "metadata": {
        "id": "M4xBbDROpoCv",
        "colab_type": "code",
        "colab": {}
      },
      "source": [
        "import torch.optim as optim\n",
        "import torch.nn as nn\n",
        "import torch.nn.functional as F\n",
        "\n",
        "criterion = nn.CrossEntropyLoss()\n",
        "optimizer = optim.SGD(net.parameters(), lr=0.001, momentum=0.9)"
      ],
      "execution_count": 0,
      "outputs": []
    },
    {
      "cell_type": "code",
      "metadata": {
        "id": "tgT_dESv3YUc",
        "colab_type": "code",
        "colab": {}
      },
      "source": [
        ""
      ],
      "execution_count": 0,
      "outputs": []
    },
    {
      "cell_type": "code",
      "metadata": {
        "id": "2E0dQ4-tE-W_",
        "colab_type": "code",
        "outputId": "aaea6ba3-c0d1-46aa-9a04-4d877c95b005",
        "colab": {
          "base_uri": "https://localhost:8080/",
          "height": 1000
        }
      },
      "source": [
        "from torchsummary import summary\n",
        "use_cuda = torch.cuda.is_available()\n",
        "device = torch.device(\"cuda\" if use_cuda else \"cpu\")\n",
        "print(device)\n",
        "model = Net().to(device)\n",
        "summary(model, input_size=(3, 32, 32))"
      ],
      "execution_count": 0,
      "outputs": [
        {
          "output_type": "stream",
          "text": [
            "cuda\n",
            "----------------------------------------------------------------\n",
            "        Layer (type)               Output Shape         Param #\n",
            "================================================================\n",
            "            Conv2d-1           [-1, 32, 32, 32]             896\n",
            "              ReLU-2           [-1, 32, 32, 32]               0\n",
            "       BatchNorm2d-3           [-1, 32, 32, 32]              64\n",
            "           Dropout-4           [-1, 32, 32, 32]               0\n",
            "            Conv2d-5           [-1, 32, 32, 32]           9,248\n",
            "              ReLU-6           [-1, 32, 32, 32]               0\n",
            "       BatchNorm2d-7           [-1, 32, 32, 32]              64\n",
            "           Dropout-8           [-1, 32, 32, 32]               0\n",
            "            Conv2d-9           [-1, 32, 32, 32]           9,248\n",
            "             ReLU-10           [-1, 32, 32, 32]               0\n",
            "      BatchNorm2d-11           [-1, 32, 32, 32]              64\n",
            "          Dropout-12           [-1, 32, 32, 32]               0\n",
            "        MaxPool2d-13           [-1, 32, 16, 16]               0\n",
            "           Conv2d-14           [-1, 64, 16, 16]          18,496\n",
            "             ReLU-15           [-1, 64, 16, 16]               0\n",
            "      BatchNorm2d-16           [-1, 64, 16, 16]             128\n",
            "          Dropout-17           [-1, 64, 16, 16]               0\n",
            "           Conv2d-18           [-1, 64, 16, 16]           2,112\n",
            "             ReLU-19           [-1, 64, 16, 16]               0\n",
            "      BatchNorm2d-20           [-1, 64, 16, 16]             128\n",
            "          Dropout-21           [-1, 64, 16, 16]               0\n",
            "           Conv2d-22           [-1, 64, 16, 16]          36,928\n",
            "             ReLU-23           [-1, 64, 16, 16]               0\n",
            "      BatchNorm2d-24           [-1, 64, 16, 16]             128\n",
            "          Dropout-25           [-1, 64, 16, 16]               0\n",
            "           Conv2d-26           [-1, 64, 16, 16]          36,928\n",
            "             ReLU-27           [-1, 64, 16, 16]               0\n",
            "      BatchNorm2d-28           [-1, 64, 16, 16]             128\n",
            "          Dropout-29           [-1, 64, 16, 16]               0\n",
            "        MaxPool2d-30             [-1, 64, 8, 8]               0\n",
            "           Conv2d-31            [-1, 128, 8, 8]           8,320\n",
            "             ReLU-32            [-1, 128, 8, 8]               0\n",
            "      BatchNorm2d-33            [-1, 128, 8, 8]             256\n",
            "          Dropout-34            [-1, 128, 8, 8]               0\n",
            "           Conv2d-35            [-1, 128, 8, 8]          73,856\n",
            "             ReLU-36            [-1, 128, 8, 8]               0\n",
            "      BatchNorm2d-37            [-1, 128, 8, 8]             256\n",
            "          Dropout-38            [-1, 128, 8, 8]               0\n",
            "           Conv2d-39            [-1, 128, 8, 8]         147,584\n",
            "             ReLU-40            [-1, 128, 8, 8]               0\n",
            "      BatchNorm2d-41            [-1, 128, 8, 8]             256\n",
            "          Dropout-42            [-1, 128, 8, 8]               0\n",
            "           Conv2d-43            [-1, 128, 8, 8]         147,584\n",
            "             ReLU-44            [-1, 128, 8, 8]               0\n",
            "      BatchNorm2d-45            [-1, 128, 8, 8]             256\n",
            "          Dropout-46            [-1, 128, 8, 8]               0\n",
            "           Conv2d-47             [-1, 10, 1, 1]           1,280\n",
            "================================================================\n",
            "Total params: 494,208\n",
            "Trainable params: 494,208\n",
            "Non-trainable params: 0\n",
            "----------------------------------------------------------------\n",
            "Input size (MB): 0.01\n",
            "Forward/backward pass size (MB): 6.09\n",
            "Params size (MB): 1.89\n",
            "Estimated Total Size (MB): 7.99\n",
            "----------------------------------------------------------------\n"
          ],
          "name": "stdout"
        }
      ]
    },
    {
      "cell_type": "code",
      "metadata": {
        "id": "zJeZul5H6Z5X",
        "colab_type": "code",
        "colab": {}
      },
      "source": [
        ""
      ],
      "execution_count": 0,
      "outputs": []
    },
    {
      "cell_type": "code",
      "metadata": {
        "id": "afwi0A-dXnEp",
        "colab_type": "code",
        "colab": {}
      },
      "source": [
        "import copy"
      ],
      "execution_count": 0,
      "outputs": []
    },
    {
      "cell_type": "code",
      "metadata": {
        "id": "tvj1p93lNrYN",
        "colab_type": "code",
        "colab": {}
      },
      "source": [
        "import evascheduler"
      ],
      "execution_count": 0,
      "outputs": []
    },
    {
      "cell_type": "code",
      "metadata": {
        "id": "JKZKZP79GWjR",
        "colab_type": "code",
        "outputId": "4ee0db5d-9d3c-4628-c006-77ff99a64ae6",
        "colab": {
          "base_uri": "https://localhost:8080/",
          "height": 1000
        }
      },
      "source": [
        "from torch.optim.lr_scheduler import StepLR\n",
        "from evascheduler import train,test\n",
        "\n",
        "model =  net.to(device)\n",
        "optimizer = optim.SGD(model.parameters(), lr=0.01, momentum=0.9)\n",
        "scheduler = StepLR(optimizer, step_size=6, gamma=0.1)\n",
        "EPOCHS = 20\n",
        "for epoch in range(EPOCHS):\n",
        "    print(\"EPOCH:\", epoch)\n",
        "    train(model, device, trainloader, optimizer, epoch,criterion)\n",
        "    scheduler.step()\n",
        "    test(model, device, testloader)\n"
      ],
      "execution_count": 0,
      "outputs": [
        {
          "output_type": "stream",
          "text": [
            "\r  0%|          | 0/98 [00:00<?, ?it/s]"
          ],
          "name": "stderr"
        },
        {
          "output_type": "stream",
          "text": [
            "EPOCH: 0\n"
          ],
          "name": "stdout"
        },
        {
          "output_type": "stream",
          "text": [
            "Loss=1.2372995615005493 Batch_id=97 Accuracy=40.76: 100%|██████████| 98/98 [00:27<00:00,  4.00it/s]\n",
            "  0%|          | 0/98 [00:00<?, ?it/s]"
          ],
          "name": "stderr"
        },
        {
          "output_type": "stream",
          "text": [
            "\n",
            "Test set: Average loss: 0.5118, Accuracy: 4882/10000 (48.82%)\n",
            "\n",
            "EPOCH: 1\n"
          ],
          "name": "stdout"
        },
        {
          "output_type": "stream",
          "text": [
            "Loss=1.1142488718032837 Batch_id=97 Accuracy=58.19: 100%|██████████| 98/98 [00:28<00:00,  4.01it/s]\n",
            "  0%|          | 0/98 [00:00<?, ?it/s]"
          ],
          "name": "stderr"
        },
        {
          "output_type": "stream",
          "text": [
            "\n",
            "Test set: Average loss: 0.4455, Accuracy: 5545/10000 (55.45%)\n",
            "\n",
            "EPOCH: 2\n"
          ],
          "name": "stdout"
        },
        {
          "output_type": "stream",
          "text": [
            "Loss=0.8724231719970703 Batch_id=97 Accuracy=64.94: 100%|██████████| 98/98 [00:28<00:00,  3.92it/s]\n",
            "  0%|          | 0/98 [00:00<?, ?it/s]"
          ],
          "name": "stderr"
        },
        {
          "output_type": "stream",
          "text": [
            "\n",
            "Test set: Average loss: 0.3511, Accuracy: 6489/10000 (64.89%)\n",
            "\n",
            "EPOCH: 3\n"
          ],
          "name": "stdout"
        },
        {
          "output_type": "stream",
          "text": [
            "Loss=0.8427439332008362 Batch_id=97 Accuracy=69.39: 100%|██████████| 98/98 [00:28<00:00,  4.00it/s]\n",
            "  0%|          | 0/98 [00:00<?, ?it/s]"
          ],
          "name": "stderr"
        },
        {
          "output_type": "stream",
          "text": [
            "\n",
            "Test set: Average loss: 0.3265, Accuracy: 6735/10000 (67.35%)\n",
            "\n",
            "EPOCH: 4\n"
          ],
          "name": "stdout"
        },
        {
          "output_type": "stream",
          "text": [
            "Loss=0.8038123846054077 Batch_id=97 Accuracy=72.82: 100%|██████████| 98/98 [00:28<00:00,  3.97it/s]\n",
            "  0%|          | 0/98 [00:00<?, ?it/s]"
          ],
          "name": "stderr"
        },
        {
          "output_type": "stream",
          "text": [
            "\n",
            "Test set: Average loss: 0.2856, Accuracy: 7144/10000 (71.44%)\n",
            "\n",
            "EPOCH: 5\n"
          ],
          "name": "stdout"
        },
        {
          "output_type": "stream",
          "text": [
            "Loss=0.7300898432731628 Batch_id=97 Accuracy=75.48: 100%|██████████| 98/98 [00:27<00:00,  3.99it/s]\n",
            "  0%|          | 0/98 [00:00<?, ?it/s]"
          ],
          "name": "stderr"
        },
        {
          "output_type": "stream",
          "text": [
            "\n",
            "Test set: Average loss: 0.2780, Accuracy: 7220/10000 (72.20%)\n",
            "\n",
            "EPOCH: 6\n"
          ],
          "name": "stdout"
        },
        {
          "output_type": "stream",
          "text": [
            "Loss=0.5685609579086304 Batch_id=97 Accuracy=78.98: 100%|██████████| 98/98 [00:28<00:00,  3.94it/s]\n",
            "  0%|          | 0/98 [00:00<?, ?it/s]"
          ],
          "name": "stderr"
        },
        {
          "output_type": "stream",
          "text": [
            "\n",
            "Test set: Average loss: 0.2524, Accuracy: 7476/10000 (74.76%)\n",
            "\n",
            "EPOCH: 7\n"
          ],
          "name": "stdout"
        },
        {
          "output_type": "stream",
          "text": [
            "Loss=0.6025494337081909 Batch_id=97 Accuracy=80.04: 100%|██████████| 98/98 [00:27<00:00,  3.97it/s]\n",
            "  0%|          | 0/98 [00:00<?, ?it/s]"
          ],
          "name": "stderr"
        },
        {
          "output_type": "stream",
          "text": [
            "\n",
            "Test set: Average loss: 0.2475, Accuracy: 7525/10000 (75.25%)\n",
            "\n",
            "EPOCH: 8\n"
          ],
          "name": "stdout"
        },
        {
          "output_type": "stream",
          "text": [
            "Loss=0.5181952714920044 Batch_id=97 Accuracy=80.31: 100%|██████████| 98/98 [00:27<00:00,  3.93it/s]\n",
            "  0%|          | 0/98 [00:00<?, ?it/s]"
          ],
          "name": "stderr"
        },
        {
          "output_type": "stream",
          "text": [
            "\n",
            "Test set: Average loss: 0.2438, Accuracy: 7562/10000 (75.62%)\n",
            "\n",
            "EPOCH: 9\n"
          ],
          "name": "stdout"
        },
        {
          "output_type": "stream",
          "text": [
            "Loss=0.5896629095077515 Batch_id=97 Accuracy=80.92: 100%|██████████| 98/98 [00:27<00:00,  3.97it/s]\n",
            "  0%|          | 0/98 [00:00<?, ?it/s]"
          ],
          "name": "stderr"
        },
        {
          "output_type": "stream",
          "text": [
            "\n",
            "Test set: Average loss: 0.2431, Accuracy: 7569/10000 (75.69%)\n",
            "\n",
            "EPOCH: 10\n"
          ],
          "name": "stdout"
        },
        {
          "output_type": "stream",
          "text": [
            "Loss=0.5882278084754944 Batch_id=97 Accuracy=81.09: 100%|██████████| 98/98 [00:28<00:00,  3.95it/s]\n",
            "  0%|          | 0/98 [00:00<?, ?it/s]"
          ],
          "name": "stderr"
        },
        {
          "output_type": "stream",
          "text": [
            "\n",
            "Test set: Average loss: 0.2447, Accuracy: 7553/10000 (75.53%)\n",
            "\n",
            "EPOCH: 11\n"
          ],
          "name": "stdout"
        },
        {
          "output_type": "stream",
          "text": [
            "Loss=0.4974674582481384 Batch_id=97 Accuracy=81.40: 100%|██████████| 98/98 [00:28<00:00,  3.97it/s]\n",
            "  0%|          | 0/98 [00:00<?, ?it/s]"
          ],
          "name": "stderr"
        },
        {
          "output_type": "stream",
          "text": [
            "\n",
            "Test set: Average loss: 0.2404, Accuracy: 7596/10000 (75.96%)\n",
            "\n",
            "EPOCH: 12\n"
          ],
          "name": "stdout"
        },
        {
          "output_type": "stream",
          "text": [
            "Loss=0.4355751574039459 Batch_id=97 Accuracy=82.03: 100%|██████████| 98/98 [00:28<00:00,  3.92it/s]\n",
            "  0%|          | 0/98 [00:00<?, ?it/s]"
          ],
          "name": "stderr"
        },
        {
          "output_type": "stream",
          "text": [
            "\n",
            "Test set: Average loss: 0.2391, Accuracy: 7609/10000 (76.09%)\n",
            "\n",
            "EPOCH: 13\n"
          ],
          "name": "stdout"
        },
        {
          "output_type": "stream",
          "text": [
            "Loss=0.5071467757225037 Batch_id=97 Accuracy=82.11: 100%|██████████| 98/98 [00:28<00:00,  3.94it/s]\n",
            "  0%|          | 0/98 [00:00<?, ?it/s]"
          ],
          "name": "stderr"
        },
        {
          "output_type": "stream",
          "text": [
            "\n",
            "Test set: Average loss: 0.2380, Accuracy: 7620/10000 (76.20%)\n",
            "\n",
            "EPOCH: 14\n"
          ],
          "name": "stdout"
        },
        {
          "output_type": "stream",
          "text": [
            "Loss=0.5168484449386597 Batch_id=97 Accuracy=82.23: 100%|██████████| 98/98 [00:28<00:00,  3.89it/s]\n",
            "  0%|          | 0/98 [00:00<?, ?it/s]"
          ],
          "name": "stderr"
        },
        {
          "output_type": "stream",
          "text": [
            "\n",
            "Test set: Average loss: 0.2371, Accuracy: 7629/10000 (76.29%)\n",
            "\n",
            "EPOCH: 15\n"
          ],
          "name": "stdout"
        },
        {
          "output_type": "stream",
          "text": [
            "Loss=0.5146190524101257 Batch_id=97 Accuracy=82.19: 100%|██████████| 98/98 [00:28<00:00,  4.00it/s]\n",
            "  0%|          | 0/98 [00:00<?, ?it/s]"
          ],
          "name": "stderr"
        },
        {
          "output_type": "stream",
          "text": [
            "\n",
            "Test set: Average loss: 0.2384, Accuracy: 7616/10000 (76.16%)\n",
            "\n",
            "EPOCH: 16\n"
          ],
          "name": "stdout"
        },
        {
          "output_type": "stream",
          "text": [
            "Loss=0.5161762833595276 Batch_id=97 Accuracy=82.29: 100%|██████████| 98/98 [00:27<00:00,  3.96it/s]\n",
            "  0%|          | 0/98 [00:00<?, ?it/s]"
          ],
          "name": "stderr"
        },
        {
          "output_type": "stream",
          "text": [
            "\n",
            "Test set: Average loss: 0.2367, Accuracy: 7633/10000 (76.33%)\n",
            "\n",
            "EPOCH: 17\n"
          ],
          "name": "stdout"
        },
        {
          "output_type": "stream",
          "text": [
            "Loss=0.5479859113693237 Batch_id=97 Accuracy=82.34: 100%|██████████| 98/98 [00:27<00:00,  4.00it/s]\n",
            "  0%|          | 0/98 [00:00<?, ?it/s]"
          ],
          "name": "stderr"
        },
        {
          "output_type": "stream",
          "text": [
            "\n",
            "Test set: Average loss: 0.2395, Accuracy: 7605/10000 (76.05%)\n",
            "\n",
            "EPOCH: 18\n"
          ],
          "name": "stdout"
        },
        {
          "output_type": "stream",
          "text": [
            "Loss=0.5508031845092773 Batch_id=97 Accuracy=82.47: 100%|██████████| 98/98 [00:28<00:00,  3.96it/s]\n",
            "  0%|          | 0/98 [00:00<?, ?it/s]"
          ],
          "name": "stderr"
        },
        {
          "output_type": "stream",
          "text": [
            "\n",
            "Test set: Average loss: 0.2387, Accuracy: 7613/10000 (76.13%)\n",
            "\n",
            "EPOCH: 19\n"
          ],
          "name": "stdout"
        },
        {
          "output_type": "stream",
          "text": [
            "Loss=0.6552873849868774 Batch_id=97 Accuracy=82.35: 100%|██████████| 98/98 [00:28<00:00,  4.00it/s]\n"
          ],
          "name": "stderr"
        },
        {
          "output_type": "stream",
          "text": [
            "\n",
            "Test set: Average loss: 0.2392, Accuracy: 7608/10000 (76.08%)\n",
            "\n"
          ],
          "name": "stdout"
        }
      ]
    }
  ]
}